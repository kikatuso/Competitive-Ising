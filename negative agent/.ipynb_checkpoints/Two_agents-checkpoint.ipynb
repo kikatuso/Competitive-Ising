{
 "cells": [
  {
   "cell_type": "code",
   "execution_count": 1,
   "id": "endless-textbook",
   "metadata": {},
   "outputs": [],
   "source": [
    "import networkx as nx \n",
    "import numpy as np \n",
    "import pandas as pd\n",
    "import matplotlib.pyplot as plt\n",
    "import math\n",
    "from scipy import optimize\n",
    "import scipy\n",
    "import sys\n",
    "from src import isingNumba as ising\n",
    "from src import SingleAgent as sa\n",
    "from src import SimGame as sg\n",
    "import random"
   ]
  },
  {
   "cell_type": "code",
   "execution_count": 2,
   "id": "quiet-curtis",
   "metadata": {},
   "outputs": [
    {
     "data": {
      "image/png": "[encoded data removed]",
      "text/plain": [
       "<Figure size 432x288 with 1 Axes>"
      ]
     },
     "metadata": {},
     "output_type": "display_data"
    }
   ],
   "source": [
    "G = nx.star_graph(4)\n",
    "h = np.zeros(len(G.nodes.keys()))\n",
    "\n",
    "nx.draw(G)\n",
    "\n",
    "\n",
    "def running_mean(x, N):\n",
    "    cumsum = np.cumsum(np.insert(x, 0, 0)) \n",
    "    return (cumsum[N:] - cumsum[:-N]) / float(N)"
   ]
  },
  {
   "cell_type": "code",
   "execution_count": 3,
   "id": "adaptive-utilization",
   "metadata": {},
   "outputs": [],
   "source": [
    "def init_allocation(budget_pos,budget_neg):\n",
    "    periph = lambda hub,budget: (budget-hub)/4.0\n",
    "\n",
    "    hub_pos= random.uniform(0,budget_pos)\n",
    "    hub_neg = random.uniform(0,budget_neg)\n",
    "    per_pos = periph(hub_pos,budget_pos)\n",
    "    per_neg = periph(hub_neg,budget_neg)\n",
    "\n",
    "    init_pos = np.array([hub_pos,per_pos,per_pos,per_pos,per_pos])\n",
    "    init_neg = np.array([hub_neg,per_neg,per_neg,per_neg,per_neg])\n",
    "    init_alloc = np.column_stack((init_pos,init_neg)).T\n",
    "    return init_alloc\n",
    "\n"
   ]
  },
  {
   "cell_type": "code",
   "execution_count": 4,
   "id": "cloudy-vietnam",
   "metadata": {},
   "outputs": [
    {
     "name": "stderr",
     "output_type": "stream",
     "text": [
      "<string>:3: NumbaPerformanceWarning: \u001b[1m\u001b[1m\u001b[1m\u001b[1m\u001b[1m\u001b[1mnp.dot() is faster on contiguous arrays, called on (array(float64, 1d, A), array(float64, 1d, C))\u001b[0m\u001b[0m\u001b[0m\u001b[0m\u001b[0m\u001b[0m\n",
      "100%|█████████████████████████████████████████████████████████████████████████████| 5000/5000 [00:12<00:00, 396.18it/s]\n",
      "  3%|██▋                                                                          | 174/5000 [00:00<00:02, 1670.11it/s]"
     ]
    },
    {
     "name": "stdout",
     "output_type": "stream",
     "text": [
      "Failed to converge after 5000 iterations\n"
     ]
    },
    {
     "name": "stderr",
     "output_type": "stream",
     "text": [
      "100%|████████████████████████████████████████████████████████████████████████████| 5000/5000 [00:03<00:00, 1500.10it/s]\n",
      "  0%|                                                                                 | 6/5000 [00:00<01:30, 55.02it/s]"
     ]
    },
    {
     "name": "stdout",
     "output_type": "stream",
     "text": [
      "Failed to converge after 5000 iterations\n"
     ]
    },
    {
     "name": "stderr",
     "output_type": "stream",
     "text": [
      "100%|██████████████████████████████████████████████████████████████████████████████| 5000/5000 [02:22<00:00, 35.12it/s]\n",
      "  3%|██▎                                                                          | 150/5000 [00:00<00:03, 1490.44it/s]"
     ]
    },
    {
     "name": "stdout",
     "output_type": "stream",
     "text": [
      "Failed to converge after 5000 iterations\n"
     ]
    },
    {
     "name": "stderr",
     "output_type": "stream",
     "text": [
      "100%|█████████████████████████████████████████████████████████████████████████████| 5000/5000 [00:05<00:00, 997.23it/s]\n",
      "  1%|▌                                                                              | 33/5000 [00:00<00:15, 327.60it/s]"
     ]
    },
    {
     "name": "stdout",
     "output_type": "stream",
     "text": [
      "Failed to converge after 5000 iterations\n"
     ]
    },
    {
     "name": "stderr",
     "output_type": "stream",
     "text": [
      "100%|█████████████████████████████████████████████████████████████████████████████| 5000/5000 [00:06<00:00, 816.78it/s]\n",
      "  3%|██▍                                                                          | 158/5000 [00:00<00:03, 1460.19it/s]"
     ]
    },
    {
     "name": "stdout",
     "output_type": "stream",
     "text": [
      "Failed to converge after 5000 iterations\n"
     ]
    },
    {
     "name": "stderr",
     "output_type": "stream",
     "text": [
      "100%|█████████████████████████████████████████████████████████████████████████████| 5000/5000 [00:06<00:00, 769.61it/s]\n",
      "  0%|▏                                                                               | 10/5000 [00:00<01:45, 47.29it/s]"
     ]
    },
    {
     "name": "stdout",
     "output_type": "stream",
     "text": [
      "Failed to converge after 5000 iterations\n"
     ]
    },
    {
     "name": "stderr",
     "output_type": "stream",
     "text": [
      "100%|██████████████████████████████████████████████████████████████████████████████| 5000/5000 [02:38<00:00, 31.59it/s]\n",
      "  0%|                                                                                         | 0/5000 [00:00<?, ?it/s]"
     ]
    },
    {
     "name": "stdout",
     "output_type": "stream",
     "text": [
      "Failed to converge after 5000 iterations\n"
     ]
    },
    {
     "name": "stderr",
     "output_type": "stream",
     "text": [
      "100%|██████████████████████████████████████████████████████████████████████████████| 5000/5000 [02:27<00:00, 33.94it/s]\n",
      "  3%|██▍                                                                          | 159/5000 [00:00<00:03, 1524.29it/s]"
     ]
    },
    {
     "name": "stdout",
     "output_type": "stream",
     "text": [
      "Failed to converge after 5000 iterations\n"
     ]
    },
    {
     "name": "stderr",
     "output_type": "stream",
     "text": [
      "100%|████████████████████████████████████████████████████████████████████████████| 5000/5000 [00:03<00:00, 1252.80it/s]\n",
      "  0%|                                                                                         | 0/5000 [00:00<?, ?it/s]"
     ]
    },
    {
     "name": "stdout",
     "output_type": "stream",
     "text": [
      "Failed to converge after 5000 iterations\n"
     ]
    },
    {
     "name": "stderr",
     "output_type": "stream",
     "text": [
      "100%|██████████████████████████████████████████████████████████████████████████████| 5000/5000 [02:05<00:00, 39.78it/s]\n",
      "  6%|████▊                                                                        | 316/5000 [00:00<00:02, 1577.49it/s]"
     ]
    },
    {
     "name": "stdout",
     "output_type": "stream",
     "text": [
      "Failed to converge after 5000 iterations\n"
     ]
    },
    {
     "name": "stderr",
     "output_type": "stream",
     "text": [
      "100%|████████████████████████████████████████████████████████████████████████████| 5000/5000 [00:03<00:00, 1503.67it/s]\n",
      "  0%|                                                                                 | 6/5000 [00:00<01:41, 49.11it/s]"
     ]
    },
    {
     "name": "stdout",
     "output_type": "stream",
     "text": [
      "Failed to converge after 5000 iterations\n"
     ]
    },
    {
     "name": "stderr",
     "output_type": "stream",
     "text": [
      "100%|██████████████████████████████████████████████████████████████████████████████| 5000/5000 [01:49<00:00, 45.61it/s]\n",
      "  0%|                                                                                 | 5/5000 [00:00<02:04, 39.97it/s]"
     ]
    },
    {
     "name": "stdout",
     "output_type": "stream",
     "text": [
      "Failed to converge after 5000 iterations\n"
     ]
    },
    {
     "name": "stderr",
     "output_type": "stream",
     "text": [
      "100%|██████████████████████████████████████████████████████████████████████████████| 5000/5000 [01:50<00:00, 45.10it/s]\n",
      "  0%|                                                                                 | 4/5000 [00:00<02:12, 37.75it/s]"
     ]
    },
    {
     "name": "stdout",
     "output_type": "stream",
     "text": [
      "Failed to converge after 5000 iterations\n"
     ]
    },
    {
     "name": "stderr",
     "output_type": "stream",
     "text": [
      "100%|██████████████████████████████████████████████████████████████████████████████| 5000/5000 [02:26<00:00, 34.22it/s]\n",
      "  0%|                                                                                 | 3/5000 [00:00<02:55, 28.54it/s]"
     ]
    },
    {
     "name": "stdout",
     "output_type": "stream",
     "text": [
      "Failed to converge after 5000 iterations\n"
     ]
    },
    {
     "name": "stderr",
     "output_type": "stream",
     "text": [
      "100%|██████████████████████████████████████████████████████████████████████████████| 5000/5000 [02:42<00:00, 30.71it/s]\n",
      "  3%|██▍                                                                          | 159/5000 [00:00<00:03, 1547.19it/s]"
     ]
    },
    {
     "name": "stdout",
     "output_type": "stream",
     "text": [
      "Failed to converge after 5000 iterations\n"
     ]
    },
    {
     "name": "stderr",
     "output_type": "stream",
     "text": [
      "100%|████████████████████████████████████████████████████████████████████████████| 5000/5000 [00:04<00:00, 1041.00it/s]\n",
      "  2%|█▌                                                                             | 99/5000 [00:00<00:04, 982.82it/s]"
     ]
    },
    {
     "name": "stdout",
     "output_type": "stream",
     "text": [
      "Failed to converge after 5000 iterations\n"
     ]
    },
    {
     "name": "stderr",
     "output_type": "stream",
     "text": [
      "100%|████████████████████████████████████████████████████████████████████████████| 5000/5000 [00:03<00:00, 1346.92it/s]\n",
      "  3%|██                                                                           | 137/5000 [00:00<00:03, 1368.35it/s]"
     ]
    },
    {
     "name": "stdout",
     "output_type": "stream",
     "text": [
      "Failed to converge after 5000 iterations\n"
     ]
    },
    {
     "name": "stderr",
     "output_type": "stream",
     "text": [
      "100%|████████████████████████████████████████████████████████████████████████████| 5000/5000 [00:03<00:00, 1418.55it/s]\n",
      "  3%|██▎                                                                          | 149/5000 [00:00<00:03, 1362.61it/s]"
     ]
    },
    {
     "name": "stdout",
     "output_type": "stream",
     "text": [
      "Failed to converge after 5000 iterations\n"
     ]
    },
    {
     "name": "stderr",
     "output_type": "stream",
     "text": [
      "100%|████████████████████████████████████████████████████████████████████████████| 5000/5000 [00:03<00:00, 1303.17it/s]\n",
      "  0%|                                                                                 | 5/5000 [00:00<01:47, 46.60it/s]"
     ]
    },
    {
     "name": "stdout",
     "output_type": "stream",
     "text": [
      "Failed to converge after 5000 iterations\n"
     ]
    },
    {
     "name": "stderr",
     "output_type": "stream",
     "text": [
      "100%|██████████████████████████████████████████████████████████████████████████████| 5000/5000 [01:58<00:00, 42.04it/s]\n"
     ]
    },
    {
     "name": "stdout",
     "output_type": "stream",
     "text": [
      "Failed to converge after 5000 iterations\n"
     ]
    }
   ],
   "source": [
    "b = np.zeros(len(G.nodes.keys()))\n",
    "budget_pos=2.0\n",
    "budget_neg=2.0\n",
    "\n",
    "\n",
    "system = ising.mf_ising_system(G,b,iim_iter=5000,iim_tol_fac=1e-5)\n",
    "\n",
    "\n",
    "beta=1.0\n",
    "\n",
    "iters=20\n",
    "\n",
    "pos_degrees=[]\n",
    "neg_degrees=[]\n",
    "\n",
    "for i in range(iters):\n",
    "    init_external=init_allocation(budget_pos,budget_neg)\n",
    "    control_pos,control_neg,mag=system.MF_IIM(budget_pos,budget_neg,beta,init_alloc=init_external)\n",
    "    controls_pos = system.control_field_history_pos\n",
    "    controls_neg = system.control_field_history_neg\n",
    "    temp_pos=[]\n",
    "    temp_neg=[]\n",
    "    for idx in range(controls_pos.shape[0]):\n",
    "        temp_pos.append(controls_pos[idx][0])\n",
    "        temp_neg.append(controls_neg[idx][0])\n",
    "    \n",
    "    pos_degrees.append(temp_pos)\n",
    "    neg_degrees.append(temp_neg)\n"
   ]
  },
  {
   "cell_type": "code",
   "execution_count": 5,
   "id": "injured-machine",
   "metadata": {},
   "outputs": [
    {
     "data": {
      "image/png": "[encoded data removed]",
      "text/plain": [
       "<Figure size 720x720 with 1 Axes>"
      ]
     },
     "metadata": {
      "needs_background": "light"
     },
     "output_type": "display_data"
    }
   ],
   "source": [
    "import matplotlib\n",
    "matplotlib.rcParams.update({'font.size': 22,'figure.figsize':(12,10),'axes.labelsize': 'large',\n",
    "                           'axes.titlesize':18})\n",
    "\n",
    "fig,ax=plt.subplots(figsize=(10,10))\n",
    "\n",
    "n=1\n",
    "\n",
    "for idx,run in enumerate(pos_degrees):\n",
    "    \n",
    "    ax.plot(run[::n],neg_degrees[idx][::n],label='Convergence paths',c='blue',linestyle='dashed',alpha=0.2)\n",
    "    ax.set_xlabel('Budget on hub node - positive agent')\n",
    "    ax.set_ylabel('Budget on hub node - negative agent')\n",
    "    ax.scatter(run[0],neg_degrees[idx][0],c='green',label='start points',s=60)\n",
    "    ax.scatter(run[-1],neg_degrees[idx][-1],c='red',label='final points')\n",
    "\n",
    "    hand, labl = ax.get_legend_handles_labels()\n",
    "    handout=[]\n",
    "    lablout=[]\n",
    "    for h,l in zip(hand,labl):\n",
    "        if l not in lablout:\n",
    "            lablout.append(l)\n",
    "            handout.append(h)\n",
    "    ax.legend(handout, lablout,loc='best')\n",
    "    \n",
    "pos_string = '$Budget_{pos}$'\n",
    "neg_string = '$Budget_{neg}$'\n",
    "#ax.set_title(r'Convergence paths for {}={} {}={}'.format(pos_string,budget_pos,neg_string,budget_neg))"
   ]
  },
  {
   "cell_type": "code",
   "execution_count": null,
   "id": "amateur-dominant",
   "metadata": {},
   "outputs": [],
   "source": [
    "lr_1 = lambda x,maxiter : np.exp(-x/(0.5*maxiter))\n",
    "lr_2 = lambda x,maxiter : np.exp(-x/(0.5*maxiter))"
   ]
  },
  {
   "cell_type": "code",
   "execution_count": null,
   "id": "postal-culture",
   "metadata": {},
   "outputs": [],
   "source": [
    "budget_pos=2.0\n",
    "budget_neg=1.0\n",
    "\n",
    "\n",
    "beta=0.2\n",
    "b = np.zeros(len(G.nodes.keys()))\n",
    "iters=10\n",
    "\n",
    "\n",
    "params = {'optimiser_type':'adam','lr_1':lr_1,'lr_2':lr_2,'beta1':0.9,'beta2':0.999,'eps':0.5}\n",
    "\n",
    "controlArr = []\n",
    "for i in range(iters):\n",
    "    system = sg.mf_ising_system(G,b,iim_iter=5000,fixed_point_iter=int(5*1e5),iim_tol_fac=1e-3,**params)\n",
    "    init_external=init_allocation(budget_pos,budget_neg)\n",
    "    control_pos,control_neg,mag=system.MF_IIM(budget_pos,budget_neg,beta,init_alloc=init_external)\n",
    "    controlArr.append(np.array(system.mag_delta_history))\n"
   ]
  },
  {
   "cell_type": "code",
   "execution_count": null,
   "id": "transparent-workplace",
   "metadata": {
    "scrolled": true
   },
   "outputs": [],
   "source": [
    "x=np.sum(np.array(system.mag_delta_history),axis=1)\n",
    "\n",
    "y = np.std(np.array(system.mag_delta_history),axis=1)\n"
   ]
  },
  {
   "cell_type": "code",
   "execution_count": null,
   "id": "romantic-rendering",
   "metadata": {},
   "outputs": [],
   "source": [
    "import matplotlib\n",
    "matplotlib.rcParams.update({'font.size': 20,'figure.figsize':(12,10),'axes.labelsize': 'large',\n",
    "                           'axes.titlesize':18})\n",
    "\n",
    "\n",
    "fig,ax=plt.subplots()\n",
    "\n",
    "xarray=np.arange(0,len(x),1)\n",
    "ax.plot(x,label='Total Magnetisation')\n",
    "ax.fill_between(xarray,x+y,x-y,**{'color':'blue','alpha':0.5})\n",
    "\n",
    "\n",
    "ax.legend()\n",
    "\n",
    "        \n",
    "pos_string = '$Budget_{pos}$'\n",
    "neg_string = '$Budget_{neg}$'\n",
    "#ax.set_title(r'Overall nodes magnetisation'+'\\n' +'for {}={} {}={}'.format(pos_string,budget_pos,neg_string,budget_neg),fontsize=22)\n",
    "ax.set_xlabel('Iterations')\n",
    "ax.set_ylabel('Magnetisation sum')"
   ]
  },
  {
   "cell_type": "code",
   "execution_count": null,
   "id": "involved-browse",
   "metadata": {},
   "outputs": [],
   "source": [
    "x= np.array([1,3,4])\n",
    "\n",
    "(x>1).all()"
   ]
  },
  {
   "cell_type": "code",
   "execution_count": null,
   "id": "short-berkeley",
   "metadata": {},
   "outputs": [],
   "source": [
    "a=controlArr.copy()\n",
    "s=min([v.shape[0] for v in a])\n",
    "x=np.array([v[:s] for v in a])\n",
    "\n",
    "X = np.zeros((len(a),s,2))\n",
    "\n",
    "for idx in range(x.shape[0]):\n",
    "    for jx in range(x.shape[1]):\n",
    "        X[idx,jx,0]=sum(x>0 for x in x[idx,jx])/len(x[idx,jx])\n",
    "        X[idx,jx,1]=sum(x<0 for x in x[idx,jx])/len(x[idx,jx])\n",
    "\n",
    "        \n",
    "        \n",
    "mean = np.mean(X,axis=0)\n",
    "std=np.std(X,axis=0)"
   ]
  },
  {
   "cell_type": "code",
   "execution_count": null,
   "id": "under-mouth",
   "metadata": {},
   "outputs": [],
   "source": [
    "import matplotlib\n",
    "\n",
    "    \n",
    "matplotlib.rcParams.update({'font.size': 20,'figure.figsize':(25,5),'axes.labelsize': 'large',\n",
    "                           'axes.titlesize':18})\n",
    "\n",
    "\n",
    "\n",
    "\n",
    "fig,ax = plt.subplots(ncols=system.graph_size)\n",
    "gradients = np.empty((np.array(system.control_field_history_pos).shape))\n",
    "\n",
    "for i in range(np.array(system.control_field_history_pos).shape[1]):\n",
    "    \n",
    "    gradients[:,i] =np.gradient(system.control_field_history_pos[:,i])\n",
    "    ax[i].plot(gradients[:,i])\n",
    "\n",
    "\n",
    "fig.suptitle('Positive Agent')\n",
    "plt.tight_layout()\n",
    "plt.show()\n",
    "\n",
    "\n",
    "\n",
    "fig,ax = plt.subplots(ncols=5)\n",
    "gradients_negative = np.empty((np.array(system.control_field_history_pos).shape))\n",
    "\n",
    "for i in range(np.array(system.control_field_history_pos).shape[1]):\n",
    "    \n",
    "    gradients_negative[:,i] =np.gradient(system.control_field_history_neg[:,i])\n",
    "    ax[i].plot(gradients_negative[:,i])\n",
    "\n",
    "\n",
    "fig.suptitle('Negative Agent')\n",
    "plt.tight_layout()\n",
    "plt.show()"
   ]
  },
  {
   "cell_type": "code",
   "execution_count": null,
   "id": "consecutive-toyota",
   "metadata": {},
   "outputs": [],
   "source": [
    "exp_beta_list = np.logspace(-0.7, 0.5, endpoint=True,num=10)\n",
    "budget_pos=1.0\n",
    "budget_neg=1.0\n",
    "y = np.zeros(len(exp_beta_list))\n",
    "control_history_pos=[]\n",
    "control_history_neg=[]\n",
    "mag_history=[]\n",
    "\n",
    "system = mf_ising_system(G,h,lr_1,lr_2,iim_iter=10000,fixed_point_iter=int(5*1e5),fp_tol_fac=10-5,iim_tol_fac=1e-3,\n",
    "                         momentum=1.1,optimiser_type='sgd')\n",
    "for i,beta in enumerate(exp_beta_list):\n",
    "    control_pos,control_neg,mag=system.MF_IIM(budget_pos,budget_neg,beta)\n",
    "    control_history_pos.append(control_pos)\n",
    "    control_history_neg.append(control_neg)\n",
    "    mag_history.append(mag)\n",
    "    if i%10==0:\n",
    "        print(i,beta)\n",
    "\n",
    "print('FINISHED')    "
   ]
  },
  {
   "cell_type": "code",
   "execution_count": null,
   "id": "acknowledged-baking",
   "metadata": {},
   "outputs": [],
   "source": [
    "import matplotlib\n",
    "\n",
    "beta_crit=0.5\n",
    "    \n",
    "matplotlib.rcParams.update({'font.size': 14,'figure.figsize':(10,5),'axes.labelsize': 'large',\n",
    "                           'axes.titlesize':18})\n",
    "\n",
    "def average_degree(control,budget):\n",
    "    return np.sum([G.degree[i]*con for i,con in enumerate(control)])/budget\n",
    "\n",
    "\n",
    "\n",
    "\n",
    "\n",
    "avs_deg_pos=np.zeros(len(control_history_pos))\n",
    "avs_deg_neg=np.zeros(len(control_history_pos))\n",
    "\n",
    "\n",
    "for it,control in enumerate(control_history_pos):\n",
    "    average_degree_pos = average_degree(control,budget_pos)\n",
    "    avs_deg_pos[it]=average_degree_pos\n",
    "    \n",
    "for it,control in enumerate(control_history_neg):\n",
    "\n",
    "    average_degree_neg = -average_degree(control,budget_neg)\n",
    "    avs_deg_neg[it]=average_degree_neg\n",
    "\n",
    "fig,ax = plt.subplots(figsize=(9,5))\n",
    "\n",
    "\n",
    "\n",
    "ax.scatter(exp_beta_list,avs_deg_pos,linewidth=3,label='Positive Agent, budget={}'.format(budget_pos))\n",
    "ax.scatter(exp_beta_list,avs_deg_neg,linewidth=3,label='Negative Agent, budget={}'.format(budget_neg))\n",
    "\n",
    "ax.set_xscale(value='log')\n",
    "\n",
    "ax.vlines(beta_crit,ymin=min([min(avs_deg_pos),min(avs_deg_neg)]),ymax=max([max(avs_deg_pos),max(avs_deg_neg)])\n",
    "          ,linestyles='dashed',color='black',label=r'$\\beta_{crit}$')\n",
    "\n",
    "\n",
    "\n",
    "ax.set_xticks([0.2,0.3,0.5,1.0,2.0, 3.0])\n",
    "ax.get_xaxis().set_major_formatter(matplotlib.ticker.ScalarFormatter())\n",
    "ax.set_ylabel('Average degree')\n",
    "ax.set_xlabel(r'Interaction Strenght ($\\beta$)')\n",
    "ax.legend()\n",
    "plt.show()\n"
   ]
  },
  {
   "cell_type": "code",
   "execution_count": null,
   "id": "controversial-sympathy",
   "metadata": {},
   "outputs": [],
   "source": [
    "lr_1"
   ]
  },
  {
   "cell_type": "code",
   "execution_count": null,
   "id": "sweet-cleaners",
   "metadata": {},
   "outputs": [],
   "source": []
  }
 ],
 "metadata": {
  "kernelspec": {
   "display_name": "Python 3",
   "language": "python",
   "name": "python3"
  },
  "language_info": {
   "codemirror_mode": {
    "name": "ipython",
    "version": 3
   },
   "file_extension": ".py",
   "mimetype": "text/x-python",
   "name": "python",
   "nbconvert_exporter": "python",
   "pygments_lexer": "ipython3",
   "version": "3.9.0"
  }
 },
 "nbformat": 4,
 "nbformat_minor": 5
}
