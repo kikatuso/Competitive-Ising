{
 "cells": [
  {
   "cell_type": "code",
   "execution_count": 1,
   "id": "endless-textbook",
   "metadata": {},
   "outputs": [],
   "source": [
    "import networkx as nx \n",
    "import numpy as np \n",
    "import pandas as pd\n",
    "import matplotlib.pyplot as plt\n",
    "import math\n",
    "from scipy import optimize\n",
    "import scipy\n",
    "import sys\n",
    "import pandas as pd"
   ]
  },
  {
   "cell_type": "code",
   "execution_count": 2,
   "id": "quiet-curtis",
   "metadata": {},
   "outputs": [
    {
     "data": {
      "image/png": "[encoded data removed]",
      "text/plain": [
       "<Figure size 432x288 with 1 Axes>"
      ]
     },
     "metadata": {},
     "output_type": "display_data"
    }
   ],
   "source": [
    "path = 'C:/Users/zuzan/OneDrive/Dokumenty/Master-Papers/real_networks/ca-netscience.txt'\n",
    "\n",
    "\n",
    "df = pd.read_csv(path, delimiter = \" \")\n",
    "\n",
    "def extract_network(df):\n",
    "\n",
    "    G = nx.from_pandas_edgelist(df,source='FromNodeId', target='ToNodeId')\n",
    "    subgraphs=[G.subgraph(c) for c in nx.connected_components(G)]\n",
    "    subgraphs_sizes = sorted([len(subgraph.nodes) for subgraph in subgraphs])\n",
    "    \n",
    "    mapping = {i:k for k,i in enumerate(list(G.nodes))}\n",
    "    H=nx.relabel_nodes(G,mapping)\n",
    "    \n",
    "    return H\n",
    "\n",
    "\n",
    "G = extract_network(df)\n",
    "\n",
    "nx.draw(G)\n",
    "\n"
   ]
  },
  {
   "cell_type": "code",
   "execution_count": 3,
   "id": "frank-edward",
   "metadata": {},
   "outputs": [],
   "source": [
    "\n",
    "def projection_simplex_pivot(v, z=1, random_state=None):\n",
    "    rs = np.random.RandomState(random_state)\n",
    "    n_features = len(v)\n",
    "    U = np.arange(n_features)\n",
    "    s = 0\n",
    "    rho = 0\n",
    "    while len(U) > 0:\n",
    "        G = []\n",
    "        L = []\n",
    "        k = U[rs.randint(0, len(U))]\n",
    "        ds = v[k]\n",
    "        for j in U:\n",
    "            if v[j] >= v[k]:\n",
    "                if j != k:\n",
    "                    ds += v[j]\n",
    "                    G.append(j)\n",
    "            elif v[j] < v[k]:\n",
    "                L.append(j)\n",
    "        drho = len(G) + 1\n",
    "        if s + ds - (rho + drho) * v[k] < z:\n",
    "            s += ds\n",
    "            rho += drho\n",
    "            U = L\n",
    "        else:\n",
    "            U = G\n",
    "    theta = (s - z) / float(rho)\n",
    "    return np.maximum(v - theta, 0)\n",
    "\n",
    "\n",
    "def projection_simplex_sort(v, z=1):\n",
    "    n_features = v.shape[0]\n",
    "    u = np.sort(v)[::-1]\n",
    "    cssv = np.cumsum(u) - z\n",
    "    ind = np.arange(n_features) + 1\n",
    "    cond = u - cssv / ind > 0\n",
    "    rho = ind[cond][-1]\n",
    "    theta = cssv[cond][-1] / float(rho)\n",
    "    w = np.maximum(v - theta, 0)\n",
    "    return w\n",
    "\n",
    "\n",
    "def crit_b(J):\n",
    "    eigenvalues,_ = np.linalg.eig(J)\n",
    "    return 1./np.max(np.abs(eigenvalues))\n",
    "\n",
    "def average_degree(G,control,budget):\n",
    "    return np.sum([G.degree[i]*con for i,con in enumerate(control)])/budget\n"
   ]
  },
  {
   "cell_type": "code",
   "execution_count": 5,
   "id": "postal-culture",
   "metadata": {},
   "outputs": [
    {
     "name": "stdout",
     "output_type": "stream",
     "text": [
      "0.0963812815943178\n"
     ]
    }
   ],
   "source": [
    "        \n",
    "class mf_ising_system:\n",
    "\n",
    "    def __init__(self,graph,background_field,fixed_point_iter=500,init_mag='aligned',fp_tol_fac=10-6,\n",
    "        iim_iter=1000,step_size=1.0,iim_tol_fac=1e-5):\n",
    "        \n",
    "        self.graph = graph\n",
    "        self.adj_matrix = nx.to_numpy_matrix(graph)\n",
    "        self.graph_size = len(graph.nodes.keys())\n",
    "        self.background_field = background_field\n",
    "        self.fixed_point_iter=fixed_point_iter\n",
    "        self.iim_iter = iim_iter\n",
    "        self.fp_tol_fac=fp_tol_fac\n",
    "        self.iim_tol_fac=iim_tol_fac\n",
    "        self.step_size=step_size\n",
    "        if init_mag=='aligned':\n",
    "            self.init_mag=np.zeros(self.graph_size)\n",
    "        else:\n",
    "            self.init_mag = init_mag \n",
    "            \n",
    "        \n",
    "    def single_mag(self,i,m,beta,field):\n",
    "        gamma=1.0\n",
    "        spin_field = np.dot(self.adj_matrix[i],m)\n",
    "        term = math.tanh(beta*(spin_field+field[i]))\n",
    "        return (1.0-gamma)*m[i] + gamma*term\n",
    "    \n",
    "    def magnetisation(self,mag,beta,field):\n",
    "        m_old = mag\n",
    "        m_new = np.zeros(len(m_old))\n",
    "        for i in range(system.graph_size):\n",
    "            m_new[i]=system.single_mag(i,m_old,beta,field)\n",
    "        return m_new\n",
    "\n",
    "    def Steffensen_method(self,mag,beta,field,mag_delta_history=[],it=0,heuristics=False):      \n",
    "        # Numerical Analysis Richard L.Burden 9th Edition, p. 107\n",
    "        if len(mag_delta_history)==0 or heuristics==True:\n",
    "            mag0=mag\n",
    "        else:\n",
    "            mag0=mag_delta_history[it]\n",
    "        \n",
    "        for i in range(self.fixed_point_iter):     \n",
    "            mag1=self.magnetisation(mag0,beta,field)\n",
    "            mag2=self.magnetisation(mag1,beta,field)\n",
    "            \n",
    "            if np.all((mag+mag2-2*mag1)!=0):\n",
    "                mag_d = mag - (mag1-mag)**2/(mag+mag2-2*mag1) \n",
    "            else:\n",
    "                mag_d = mag1\n",
    "            \n",
    "                    \n",
    "            if np.abs(np.mean(mag1)-np.mean(mag_d))<self.fp_tol_fac: \n",
    "                break\n",
    "            if i+1==self.fixed_point_iter:\n",
    "                print('Failed to solve self-consistency equation. Consider increasing fixed_point_iter parameter.')\n",
    "                mag_d = mag1\n",
    "                if heuristics==True:\n",
    "                    mag_d = None\n",
    "                \n",
    "        mag_delta_history.append(mag_d)\n",
    "        return mag_d,mag_delta_history\n",
    "    \n",
    "    def mag_grad(self,beta,mag):\n",
    "        # Mean Field Susceptibility;\n",
    "        \n",
    "        if all([math.isclose(i,j,abs_tol=1e-5) for i,j in zip(mag,np.ones(len(mag)))]):\n",
    "            gradient = np.zeros(len(mag))\n",
    "        else:\n",
    "            D=np.identity(self.graph_size)*np.array([(1-i**2) for i in mag]) # equals to 0 if all m's are 1 or close to 1\n",
    "            inv = np.linalg.inv(np.identity(self.graph_size)-beta*D*self.adj_matrix)\n",
    "            susc_matrix = beta*inv*D\n",
    "            gradient = np.sum(susc_matrix,axis=1).A1\n",
    "            gradient = (1.0 / np.linalg.norm(gradient))*gradient #Normalise\n",
    "\n",
    "        return gradient\n",
    "    \n",
    "    \n",
    "    def MF_IIM(self,field_budget,beta,init_control_field='uniform'):\n",
    "              \n",
    "        if init_control_field=='uniform':\n",
    "            control_field = (field_budget/self.graph_size)*np.ones(self.graph_size)\n",
    "        else:\n",
    "            control_field = init_control_field\n",
    "\n",
    "        # initial magnetisation as influenced by initial budget spread\n",
    "        # note: different from init_mag which denotes initial magnetisation *without* the external field      \n",
    "        tot_field = np.array(self.background_field+control_field)\n",
    "\n",
    "        control_field_history=[]\n",
    "        control_field_history.append(control_field)\n",
    "        mag_delta_history=[]\n",
    "        \n",
    "        mag_i,mag_delta_history = self.Steffensen_method(self.init_mag,beta,tot_field,mag_delta_history,0)\n",
    "        \n",
    "        for it in range(self.iim_iter):\n",
    "            \n",
    "            if budget!=0:\n",
    "                mag_i_grad = self.mag_grad(beta,mag_i)\n",
    "                control_field = control_field_history[it]\n",
    "\n",
    "                control_field_update = (control_field - self.step_size*mag_i_grad) # gradient ascent\n",
    "\n",
    "                control_field_new = -projection_simplex_sort(control_field_update.T,z=field_budget)\n",
    "\n",
    "            else:\n",
    "                control_field_new = np.zeros(system.graph_size)\n",
    "            \n",
    "            tot_field = np.array(self.background_field+control_field_new)\n",
    "            mag_ii,mag_delta_history = self.Steffensen_method(mag_i,beta,tot_field,mag_delta_history,it)\n",
    "\n",
    "\n",
    "            if np.abs(np.mean(mag_ii)-np.mean(mag_i)) <= self.iim_tol_fac:\n",
    "                final_mag=mag_ii\n",
    "                break\n",
    "            control_field_history.append(control_field_new)\n",
    "            mag_i=mag_ii\n",
    "        if it==self.iim_iter-1:\n",
    "            print('Failed to converge after {} iterations.'.format(self.iim_iter))\n",
    "            \n",
    "        return control_field,final_mag\n",
    "            \n",
    "        \n",
    "                \n",
    "budget=40.0\n",
    "h = np.zeros(len(G.nodes.keys()))\n",
    "\n",
    "system = mf_ising_system(G,h,iim_iter=1000,fixed_point_iter=int(5*1e2),step_size=0.01)\n",
    "\n",
    "\n",
    "beta_crit=crit_b(system.adj_matrix)\n",
    "beta = beta_crit\n",
    "print(beta_crit)\n",
    "control,final_mag=system.MF_IIM(budget,beta)\n"
   ]
  },
  {
   "cell_type": "code",
   "execution_count": 16,
   "id": "consecutive-toyota",
   "metadata": {},
   "outputs": [
    {
     "name": "stdout",
     "output_type": "stream",
     "text": [
      "0 0.024095320398579447\n",
      "10 0.04440675425317333\n",
      "20 0.08183995027590438\n",
      "30 0.15082789935460955\n",
      "Failed to solve self-consistency equation. Consider increasing fixed_point_iter parameter.\n",
      "40 0.2779700518760222\n",
      "Failed to solve self-consistency equation. Consider increasing fixed_point_iter parameter.\n",
      "Failed to solve self-consistency equation. Consider increasing fixed_point_iter parameter.\n",
      "FINISHED\n"
     ]
    }
   ],
   "source": [
    "beta_min = 0.25*beta_crit \n",
    "beta_max = 5*beta_crit \n",
    "# needs a wide range of beta to visibly include constant average degree intervals\n",
    "\n",
    "beta_list = np.logspace(np.log10(beta_min),np.log10(beta_max),num=50,endpoint=True,base=10)\n",
    "y = np.zeros(len(beta_list))\n",
    "\n",
    "normal_params = {'graph':G,'background_field':h,\n",
    "                         'iim_iter':10000,'iim_tol_fac':1e-4,'fixed_point_iter':10000,\n",
    "                         'step_size':9.0}\n",
    "\n",
    "system = mf_ising_system(**normal_params) \n",
    "# EUREKA - STEP SIZE SEEMS TO BE THE SOLUTION - optimal seems to be 5.0\n",
    "control_history=[]\n",
    "for i,beta in enumerate(beta_list):\n",
    "    control,_=system.MF_IIM(budget,beta)\n",
    "    control_history.append(control)\n",
    "    if i%10==0:\n",
    "        print(i,beta)\n",
    "\n",
    "print('FINISHED')    "
   ]
  },
  {
   "cell_type": "code",
   "execution_count": 17,
   "id": "involved-cheese",
   "metadata": {},
   "outputs": [
    {
     "data": {
      "text/plain": [
       "'RealNet_Average_iim_iter10000_iim_tol_fac0.0001_fixed_point_iter10000_step_size9.0'"
      ]
     },
     "execution_count": 17,
     "metadata": {},
     "output_type": "execute_result"
    }
   ],
   "source": [
    "invalid = {\"graph\", \"background_field\"}\n",
    "def without_keys(d, keys):\n",
    "    return {x: d[x] for x in d if x not in keys}\n",
    "\n",
    "def params_name(params,invalid=invalid):\n",
    "    params_string = [str(key)+str(entry) for key,entry in without_keys(params,invalid).items()]\n",
    "    string='RealNet_Average_'+'_'.join(params_string)\n",
    "    return string\n",
    "\n",
    "params_name(normal_params)"
   ]
  },
  {
   "cell_type": "code",
   "execution_count": 19,
   "id": "acknowledged-baking",
   "metadata": {},
   "outputs": [
    {
     "data": {
      "image/png": "[encoded data removed]",
      "text/plain": [
       "<Figure size 504x360 with 1 Axes>"
      ]
     },
     "metadata": {
      "needs_background": "light"
     },
     "output_type": "display_data"
    }
   ],
   "source": [
    "import matplotlib\n",
    "\n",
    "matplotlib.rcParams.update({'font.size': 14,'figure.figsize':(7,5),'axes.labelsize': 'large',\n",
    "                           'axes.titlesize':18})\n",
    "\n",
    "\n",
    "avs_degrees=np.zeros(len(control_history))\n",
    "for it,control in enumerate(control_history):\n",
    "    av_degree = average_degree(G,control,budget)\n",
    "    avs_degrees[it]=av_degree\n",
    "\n",
    "fig,ax = plt.subplots()\n",
    "\n",
    "ax.plot(beta_list,avs_degrees)\n",
    "ax.set_xscale(value='log')\n",
    "\n",
    "ax.set_xticks([0.03,0.05,0.1,0.25,0.5])\n",
    "\n",
    "ax.get_xaxis().set_major_formatter(matplotlib.ticker.ScalarFormatter())\n",
    "ax.set_ylabel('Average degree')\n",
    "ax.vlines(beta_crit,ymin=min(avs_degrees),ymax=max(avs_degrees),linestyles='dashed',color='red',label='beta')\n",
    "ax.set_xlabel(r'Interaction Strenght ($\\beta$)')\n",
    "ax.set_title('Distribution of influence \\n'+ r'as a function of $\\beta$')\n",
    "\n",
    "#string_name='RealNet_Average'+{}\n",
    "path = 'C:/Users/zuzan/OneDrive/Dokumenty/Master-Papers/Masters_figures/'\n",
    "\n",
    "\n",
    "#plt.savefig(path+params_name(normal_params)+'.png'.format(*[normal_params[x] for x in ['step_size','fixed_point_iter','iim_iter']]))\n",
    "plt.show()\n"
   ]
  },
  {
   "cell_type": "code",
   "execution_count": 50,
   "id": "thousand-blade",
   "metadata": {},
   "outputs": [],
   "source": [
    "class monte_carlo_simulations:\n",
    "    def __init__(self,graph,background_field):\n",
    "        self.graph = graph\n",
    "        self.graph_size = len(self.graph.nodes())\n",
    "        self.adj_matrix = nx.to_numpy_matrix(graph)\n",
    "        half_size = int(self.graph_size/2)\n",
    "        if self.graph_size%2==0:\n",
    "            spins = np.concatenate([np.ones(half_size),(-1)*np.ones(half_size)])\n",
    "        else:\n",
    "            spins = np.concatenate([np.ones(half_size+1),(-1)*np.ones(half_size)])\n",
    "        np.random.shuffle(spins)\n",
    "        self.init_spins = spins\n",
    "        self.background_field = background_field\n",
    "        \n"
   ]
  },
  {
   "cell_type": "code",
   "execution_count": 51,
   "id": "helpful-arabic",
   "metadata": {},
   "outputs": [],
   "source": [
    "from networkx.algorithms.centrality import closeness_centrality\n",
    "import random \n",
    "\n",
    "\n",
    "def fixed_point(system,total_field,beta=beta_crit):\n",
    "    mag_old = system.init_mag\n",
    "    for it in range(system.fixed_point_iter):\n",
    "        mag_new = system.magnetisation(mag_old,beta,total_field)\n",
    "        if np.abs(np.mean(mag_new)-np.mean(mag_old))<system.fp_tol_fac: \n",
    "            break\n",
    "        mag_old = mag_new\n",
    "        if i+1==self.fixed_point_iter:\n",
    "            print('Failed to solve self-consistency equation. Consider increasing fixed_point_iter parameter.')\n",
    "    return mag_new\n",
    "\n",
    "\n",
    "def monte_carlo_metropolis(system,control,T=500,beta=beta_crit):\n",
    "    total_mag_history = np.zeros((T,system.graph_size))\n",
    "    mag_old = system.init_spins\n",
    "    for it in range(T):\n",
    "        spin_int = random.randint(0,len(system.init_spins)-1)\n",
    "        surr_spin = float(system.adj_matrix[spin_int,:]@mag_old)\n",
    "\n",
    "        delta_e = 2*mag_old[spin_int]*(surr_spin+control[spin_int])\n",
    "        if delta_e > 0:\n",
    "            prob=np.exp( -1.0*beta*delta_e)\n",
    "        else:\n",
    "            prob = 1.0\n",
    "        random_prob = random.uniform(0, 1)\n",
    "        \n",
    "        if random_prob <=prob:\n",
    "            mag_rev = (-1)*mag_old[spin_int]\n",
    "            mag_old[spin_int] = mag_rev\n",
    "        total_mag_history[it] = mag_old\n",
    "\n",
    "    return np.sum(total_mag_history,axis=1)\n",
    "\n",
    "def run_MC(system,control,T,MC,beta=beta_crit):\n",
    "    time_averaged_mag = np.zeros(MC)\n",
    "    for it in range(MC):\n",
    "        sample = monte_carlo_metropolis(system,control,T,beta)\n",
    "        time_averaged_mag[it]=np.mean(sample)\n",
    "        \n",
    "        \n",
    "    mag_final = np.mean(time_averaged_mag)\n",
    "    return mag_final\n",
    "        \n",
    " "
   ]
  },
  {
   "cell_type": "code",
   "execution_count": 52,
   "id": "right-eclipse",
   "metadata": {},
   "outputs": [],
   "source": [
    "\n",
    "def degree(system,budget,T,MC,beta=beta_crit):\n",
    "    sum_degree = np.sum([system.graph.degree[node] for node in system.graph.nodes])\n",
    "    control_field = np.array([(system.graph.degree[node]/sum_degree)*budget for node in system.graph.nodes])\n",
    "    \n",
    "\n",
    "    assert np.round(np.sum(control_field),3)==budget\n",
    "\n",
    "    tot_field = np.array(system.background_field+control_field)\n",
    "    \n",
    "    mag=run_MC(system,tot_field,T,MC,beta=beta_crit)\n",
    "    #mag=fixed_point(system,tot_field,beta)\n",
    "\n",
    "\n",
    "    return mag\n",
    "\n",
    "def centrality(system,budget,T,MC,beta=beta_crit):\n",
    "    centrality = closeness_centrality(system.graph)\n",
    "    sum_centrality=sum(centrality.values())\n",
    "    control_field = np.array([(centrality[node]/sum_centrality)*budget for node in system.graph.nodes])\n",
    "    \n",
    "    assert np.round(np.sum(control_field),3)==budget\n",
    "    \n",
    "    tot_field = np.array(system.background_field+control_field)\n",
    "    #mag=fixed_point(system,tot_field)\n",
    "    mag=run_MC(system,tot_field,T,MC,beta=beta_crit)\n",
    "\n",
    "\n",
    "    return mag\n",
    "\n",
    "\n",
    "def random_set(system,budget,T,MC,beta=beta_crit):\n",
    "    random_arr = [int(100*random.random()) for i in range(system.graph_size)]\n",
    "    random_dic = {i:k for i,k in zip(system.graph.nodes,random_arr)}\n",
    "    sum_random = np.sum(random_arr)\n",
    "    control_field = np.array([(random_dic[node]/sum_random)*budget for node in system.graph.nodes])\n",
    "    \n",
    "    assert np.round(np.sum(control_field),3)==budget\n",
    "    \n",
    "    tot_field = np.array(system.background_field+control_field)\n",
    "    #mag=fixed_point(system,tot_field)\n",
    "    mag=run_MC(system,tot_field,T,MC,beta=beta_crit)\n",
    "\n",
    "    \n",
    "    return mag\n"
   ]
  },
  {
   "cell_type": "code",
   "execution_count": 53,
   "id": "subject-steam",
   "metadata": {},
   "outputs": [
    {
     "name": "stdout",
     "output_type": "stream",
     "text": [
      "0\n",
      "10\n",
      "20\n",
      "30\n",
      "40\n",
      "50\n",
      "60\n",
      "70\n",
      "80\n",
      "90\n",
      "100\n",
      "110\n",
      "120\n",
      "130\n",
      "140\n",
      "150\n",
      "160\n",
      "170\n",
      "180\n",
      "190\n"
     ]
    }
   ],
   "source": [
    "budgets = np.arange(0,200,10)\n",
    "system = mf_ising_system(G,h,iim_iter=1000,fixed_point_iter=1000,step_size=5.0)\n",
    "mc_system = monte_carlo_simulations(G,h)\n",
    "\n",
    "T = 5000\n",
    "MC = 500\n",
    "all_types={'MF':[],'Central':[],'Random':[],'Degree':[]}\n",
    "\n",
    "for budget in budgets:\n",
    "    print(budget)\n",
    "    #print('MF')\n",
    "    control,final_mag=system.MF_IIM(budget,beta_crit)\n",
    "    mag_mf = np.sum(final_mag)\n",
    "    all_types['MF'].append(mag_mf)\n",
    "    \n",
    "    #print('Central')\n",
    "    mag_c= centrality(mc_system,budget,T,MC)\n",
    "    all_types['Central'].append(mag_c)\n",
    "\n",
    "    #print('Degree')\n",
    "    mag_d = degree(mc_system,budget,T,MC)\n",
    "    all_types['Degree'].append(mag_d)\n",
    "\n",
    "    #print('Random')\n",
    "    mag_r= random_set(mc_system,budget,T,MC)\n",
    "    all_types['Random'].append(mag_r)\n",
    "\n",
    "\n"
   ]
  },
  {
   "cell_type": "code",
   "execution_count": 54,
   "id": "frozen-sacrifice",
   "metadata": {},
   "outputs": [
    {
     "data": {
      "image/png": "[encoded data removed]",
      "text/plain": [
       "<Figure size 504x360 with 1 Axes>"
      ]
     },
     "metadata": {
      "needs_background": "light"
     },
     "output_type": "display_data"
    }
   ],
   "source": [
    "fig,ax=plt.subplots()\n",
    "lw=3\n",
    "ax.plot(budgets,all_types['MF'],label='MF optimal',linewidth=lw)\n",
    "ax.plot(budgets,all_types['Central'],label='Central',linestyle='dashed',linewidth=lw)\n",
    "ax.plot(budgets,all_types['Random'],label='Random',linestyle='dashed',linewidth=lw)\n",
    "ax.plot(budgets,all_types['Degree'],label='Degree',linestyle='dashed',linewidth=lw)\n",
    "ax.set_xlabel('Budget [H]')\n",
    "ax.set_ylabel('Total Opinion [M]')\n",
    "ax.set_title('MF-IIM budget allocation \\n and common node-selection heuristics')\n",
    "ax.legend()\n",
    "\n",
    "plt.savefig(path+'final_real_network_comparison.png')\n",
    "plt.show()"
   ]
  },
  {
   "cell_type": "code",
   "execution_count": null,
   "id": "political-convention",
   "metadata": {},
   "outputs": [],
   "source": [
    "system = mf_ising_system(G,h,iim_iter=1000,fixed_point_iter=5000,step_size=0.05)\n",
    "\n",
    "degree(system,budget=12.0)"
   ]
  },
  {
   "cell_type": "code",
   "execution_count": 51,
   "id": "reduced-somerset",
   "metadata": {},
   "outputs": [
    {
     "data": {
      "text/plain": [
       "dict_values([1, 11, 34, 27, 21, 4, 15, 12, 6, 3, 12, 4, 16, 10, 8, 9, 4, 6, 6, 8, 3, 1, 3, 3, 4, 4, 4, 8, 8, 3, 2, 5, 5, 4, 4, 4, 2, 4, 3, 7, 14, 7, 6, 14, 7, 10, 4, 4, 2, 4, 6, 8, 12, 4, 5, 3, 3, 27, 4, 3, 3, 10, 4, 3, 3, 3, 1, 3, 3, 19, 10, 9, 9, 8, 3, 2, 2, 2, 8, 4, 4, 4, 1, 4, 10, 5, 2, 2, 6, 3, 15, 11, 10, 11, 8, 5, 3, 5, 5, 4, 2, 2, 5, 15, 19, 2, 2, 2, 2, 3, 6, 2, 18, 3, 9, 17, 5, 4, 11, 8, 7, 2, 6, 5, 1, 2, 3, 2, 1, 5, 2, 2, 1, 3, 3, 3, 4, 12, 4, 5, 4, 6, 4, 3, 3, 3, 2, 2, 2, 6, 2, 3, 3, 4, 7, 7, 2, 3, 11, 5, 5, 5, 5, 5, 12, 4, 4, 4, 3, 6, 7, 7, 2, 3, 3, 4, 2, 2, 12, 6, 14, 3, 2, 3, 6, 2, 3, 3, 3, 1, 6, 6, 5, 2, 4, 8, 4, 2, 6, 5, 4, 4, 3, 2, 2, 5, 7, 3, 18, 6, 6, 5, 5, 4, 7, 4, 6, 4, 3, 3, 1, 10, 8, 12, 12, 3, 3, 7, 7, 7, 7, 3, 3, 2, 10, 9, 13, 7, 11, 11, 7, 11, 7, 5, 5, 4, 8, 9, 7, 6, 6, 3, 6, 7, 8, 6, 4, 2, 2, 1, 2, 2, 2, 1, 2, 5, 1, 1, 4, 3, 3, 6, 2, 2, 1, 2, 2, 6, 5, 9, 5, 2, 6, 6, 6, 6, 6, 2, 4, 4, 4, 4, 2, 1, 2, 2, 3, 3, 2, 2, 1, 2, 5, 1, 3, 5, 3, 2, 2, 2, 7, 3, 4, 3, 1, 2, 3, 4, 2, 2, 4, 2, 1, 1, 5, 3, 4, 4, 1, 3, 3, 6, 2, 2, 3, 3, 3, 5, 9, 5, 5, 4, 4, 4, 4, 7, 5, 3, 2, 1, 4, 4, 4])"
      ]
     },
     "execution_count": 51,
     "metadata": {},
     "output_type": "execute_result"
    }
   ],
   "source": [
    "dict(G.degree).values()"
   ]
  },
  {
   "cell_type": "code",
   "execution_count": 98,
   "id": "norwegian-benchmark",
   "metadata": {},
   "outputs": [
    {
     "name": "stdout",
     "output_type": "stream",
     "text": [
      "40\n"
     ]
    }
   ],
   "source": [
    "budgets = np.arange(1,200,5)\n",
    "print(len(budgets))"
   ]
  },
  {
   "cell_type": "code",
   "execution_count": null,
   "id": "disciplinary-cache",
   "metadata": {},
   "outputs": [],
   "source": []
  },
  {
   "cell_type": "code",
   "execution_count": null,
   "id": "anticipated-bonus",
   "metadata": {},
   "outputs": [],
   "source": []
  }
 ],
 "metadata": {
  "kernelspec": {
   "display_name": "Python 3",
   "language": "python",
   "name": "python3"
  },
  "language_info": {
   "codemirror_mode": {
    "name": "ipython",
    "version": 3
   },
   "file_extension": ".py",
   "mimetype": "text/x-python",
   "name": "python",
   "nbconvert_exporter": "python",
   "pygments_lexer": "ipython3",
   "version": "3.9.0"
  }
 },
 "nbformat": 4,
 "nbformat_minor": 5
}
