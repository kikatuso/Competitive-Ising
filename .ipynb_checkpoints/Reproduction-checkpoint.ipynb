{
 "cells": [
  {
   "cell_type": "code",
   "execution_count": 1,
   "id": "endless-textbook",
   "metadata": {},
   "outputs": [],
   "source": [
    "import networkx as nx \n",
    "import numpy as np \n",
    "import pandas as pd\n",
    "import matplotlib.pyplot as plt\n",
    "import math\n",
    "from scipy import optimize\n",
    "import scipy\n",
    "import sys"
   ]
  },
  {
   "cell_type": "code",
   "execution_count": 2,
   "id": "quiet-curtis",
   "metadata": {},
   "outputs": [
    {
     "data": {
      "image/png": "[encoded data removed]",
      "text/plain": [
       "<Figure size 432x288 with 1 Axes>"
      ]
     },
     "metadata": {},
     "output_type": "display_data"
    }
   ],
   "source": [
    "G = nx.star_graph(4)\n",
    "h = np.zeros(len(G.nodes.keys()))\n",
    "\n",
    "\n",
    "B_param_init = lambda arr: {list(G.nodes)[i]: arr[i] for i in range(len(list(G.nodes)))}\n",
    "\n",
    "B_init = B_param_init(h)\n",
    "\n",
    "\n",
    "nx.set_node_attributes(G,B_init, \"exp_field\")\n",
    "nx.draw(G,node_size=(h+1)*100)\n",
    "\n"
   ]
  },
  {
   "cell_type": "code",
   "execution_count": 3,
   "id": "frank-edward",
   "metadata": {},
   "outputs": [],
   "source": [
    "\n",
    "def projection_simplex_pivot(v, z=1, random_state=None):\n",
    "    rs = np.random.RandomState(random_state)\n",
    "    n_features = len(v)\n",
    "    U = np.arange(n_features)\n",
    "    s = 0\n",
    "    rho = 0\n",
    "    while len(U) > 0:\n",
    "        G = []\n",
    "        L = []\n",
    "        k = U[rs.randint(0, len(U))]\n",
    "        ds = v[k]\n",
    "        for j in U:\n",
    "            if v[j] >= v[k]:\n",
    "                if j != k:\n",
    "                    ds += v[j]\n",
    "                    G.append(j)\n",
    "            elif v[j] < v[k]:\n",
    "                L.append(j)\n",
    "        drho = len(G) + 1\n",
    "        if s + ds - (rho + drho) * v[k] < z:\n",
    "            s += ds\n",
    "            rho += drho\n",
    "            U = L\n",
    "        else:\n",
    "            U = G\n",
    "    theta = (s - z) / float(rho)\n",
    "    return np.maximum(v - theta, 0)\n",
    "\n",
    "\n",
    "def projection_simplex_sort(v, z=1):\n",
    "    n_features = v.shape[0]\n",
    "    u = np.sort(v)[::-1]\n",
    "    cssv = np.cumsum(u) - z\n",
    "    ind = np.arange(n_features) + 1\n",
    "    cond = u - cssv / ind > 0\n",
    "    rho = ind[cond][-1]\n",
    "    theta = cssv[cond][-1] / float(rho)\n",
    "    w = np.maximum(v - theta, 0)\n",
    "    return w\n",
    "\n",
    "\n",
    "def crit_b(J):\n",
    "    eigenvalues,_ = np.linalg.eig(J)\n",
    "    return 1./np.max(np.abs(eigenvalues))\n",
    "\n",
    "def average_degree(control):\n",
    "    return np.sum([G.degree[i]*con for i,con in enumerate(control)])\n"
   ]
  },
  {
   "cell_type": "code",
   "execution_count": 4,
   "id": "postal-culture",
   "metadata": {},
   "outputs": [
    {
     "name": "stdout",
     "output_type": "stream",
     "text": [
      "0.5\n"
     ]
    },
    {
     "ename": "IndexError",
     "evalue": "index -1 is out of bounds for axis 0 with size 0",
     "output_type": "error",
     "traceback": [
      "\u001b[1;31m---------------------------------------------------------------------------\u001b[0m",
      "\u001b[1;31mIndexError\u001b[0m                                Traceback (most recent call last)",
      "\u001b[1;32m<ipython-input-4-a268d34f69ea>\u001b[0m in \u001b[0;36m<module>\u001b[1;34m\u001b[0m\n\u001b[0;32m    119\u001b[0m \u001b[0mbeta\u001b[0m \u001b[1;33m=\u001b[0m \u001b[1;36m0.9\u001b[0m\u001b[1;33m\u001b[0m\u001b[1;33m\u001b[0m\u001b[0m\n\u001b[0;32m    120\u001b[0m \u001b[0mprint\u001b[0m\u001b[1;33m(\u001b[0m\u001b[0mbeta_crit\u001b[0m\u001b[1;33m)\u001b[0m\u001b[1;33m\u001b[0m\u001b[1;33m\u001b[0m\u001b[0m\n\u001b[1;32m--> 121\u001b[1;33m \u001b[0mcontrol\u001b[0m\u001b[1;33m,\u001b[0m\u001b[0mit\u001b[0m\u001b[1;33m=\u001b[0m\u001b[0msystem\u001b[0m\u001b[1;33m.\u001b[0m\u001b[0mMF_IIM\u001b[0m\u001b[1;33m(\u001b[0m\u001b[0mbudget\u001b[0m\u001b[1;33m,\u001b[0m\u001b[0mbeta\u001b[0m\u001b[1;33m)\u001b[0m\u001b[1;33m\u001b[0m\u001b[1;33m\u001b[0m\u001b[0m\n\u001b[0m",
      "\u001b[1;32m<ipython-input-4-a268d34f69ea>\u001b[0m in \u001b[0;36mMF_IIM\u001b[1;34m(self, field_budget, beta, init_control_field)\u001b[0m\n\u001b[0;32m     92\u001b[0m             \u001b[0mcontrol_field_update\u001b[0m \u001b[1;33m=\u001b[0m \u001b[1;33m(\u001b[0m\u001b[0mcontrol_field\u001b[0m \u001b[1;33m+\u001b[0m \u001b[0mself\u001b[0m\u001b[1;33m.\u001b[0m\u001b[0mstep_size\u001b[0m\u001b[1;33m*\u001b[0m\u001b[0mmag_i_grad\u001b[0m\u001b[1;33m)\u001b[0m\u001b[1;33m\u001b[0m\u001b[1;33m\u001b[0m\u001b[0m\n\u001b[0;32m     93\u001b[0m \u001b[1;33m\u001b[0m\u001b[0m\n\u001b[1;32m---> 94\u001b[1;33m             \u001b[0mcontrol_field_new\u001b[0m \u001b[1;33m=\u001b[0m \u001b[0mprojection_simplex_sort\u001b[0m\u001b[1;33m(\u001b[0m\u001b[0mcontrol_field_update\u001b[0m\u001b[1;33m.\u001b[0m\u001b[0mT\u001b[0m\u001b[1;33m,\u001b[0m\u001b[0mz\u001b[0m\u001b[1;33m=\u001b[0m\u001b[0mfield_budget\u001b[0m\u001b[1;33m)\u001b[0m\u001b[1;33m\u001b[0m\u001b[1;33m\u001b[0m\u001b[0m\n\u001b[0m\u001b[0;32m     95\u001b[0m \u001b[1;33m\u001b[0m\u001b[0m\n\u001b[0;32m     96\u001b[0m \u001b[1;33m\u001b[0m\u001b[0m\n",
      "\u001b[1;32m<ipython-input-3-7a90d231f413>\u001b[0m in \u001b[0;36mprojection_simplex_sort\u001b[1;34m(v, z)\u001b[0m\n\u001b[0;32m     34\u001b[0m     \u001b[0mind\u001b[0m \u001b[1;33m=\u001b[0m \u001b[0mnp\u001b[0m\u001b[1;33m.\u001b[0m\u001b[0marange\u001b[0m\u001b[1;33m(\u001b[0m\u001b[0mn_features\u001b[0m\u001b[1;33m)\u001b[0m \u001b[1;33m+\u001b[0m \u001b[1;36m1\u001b[0m\u001b[1;33m\u001b[0m\u001b[1;33m\u001b[0m\u001b[0m\n\u001b[0;32m     35\u001b[0m     \u001b[0mcond\u001b[0m \u001b[1;33m=\u001b[0m \u001b[0mu\u001b[0m \u001b[1;33m-\u001b[0m \u001b[0mcssv\u001b[0m \u001b[1;33m/\u001b[0m \u001b[0mind\u001b[0m \u001b[1;33m>\u001b[0m \u001b[1;36m0\u001b[0m\u001b[1;33m\u001b[0m\u001b[1;33m\u001b[0m\u001b[0m\n\u001b[1;32m---> 36\u001b[1;33m     \u001b[0mrho\u001b[0m \u001b[1;33m=\u001b[0m \u001b[0mind\u001b[0m\u001b[1;33m[\u001b[0m\u001b[0mcond\u001b[0m\u001b[1;33m]\u001b[0m\u001b[1;33m[\u001b[0m\u001b[1;33m-\u001b[0m\u001b[1;36m1\u001b[0m\u001b[1;33m]\u001b[0m\u001b[1;33m\u001b[0m\u001b[1;33m\u001b[0m\u001b[0m\n\u001b[0m\u001b[0;32m     37\u001b[0m     \u001b[0mtheta\u001b[0m \u001b[1;33m=\u001b[0m \u001b[0mcssv\u001b[0m\u001b[1;33m[\u001b[0m\u001b[0mcond\u001b[0m\u001b[1;33m]\u001b[0m\u001b[1;33m[\u001b[0m\u001b[1;33m-\u001b[0m\u001b[1;36m1\u001b[0m\u001b[1;33m]\u001b[0m \u001b[1;33m/\u001b[0m \u001b[0mfloat\u001b[0m\u001b[1;33m(\u001b[0m\u001b[0mrho\u001b[0m\u001b[1;33m)\u001b[0m\u001b[1;33m\u001b[0m\u001b[1;33m\u001b[0m\u001b[0m\n\u001b[0;32m     38\u001b[0m     \u001b[0mw\u001b[0m \u001b[1;33m=\u001b[0m \u001b[0mnp\u001b[0m\u001b[1;33m.\u001b[0m\u001b[0mmaximum\u001b[0m\u001b[1;33m(\u001b[0m\u001b[0mv\u001b[0m \u001b[1;33m-\u001b[0m \u001b[0mtheta\u001b[0m\u001b[1;33m,\u001b[0m \u001b[1;36m0\u001b[0m\u001b[1;33m)\u001b[0m\u001b[1;33m\u001b[0m\u001b[1;33m\u001b[0m\u001b[0m\n",
      "\u001b[1;31mIndexError\u001b[0m: index -1 is out of bounds for axis 0 with size 0"
     ]
    }
   ],
   "source": [
    "        \n",
    "class mf_ising_system:\n",
    "\n",
    "    def __init__(self,graph,background_field,fixed_point_iter=int(5*1e4),init_mag='aligned',fp_tol_fac=10-6,\n",
    "        iim_iter=1000,step_size=1.0,iim_tol_fac=1e-5):\n",
    "        \n",
    "        self.graph = graph\n",
    "        self.adj_matrix = nx.to_numpy_matrix(graph)\n",
    "        self.graph_size = len(graph.nodes.keys())\n",
    "        self.background_field = background_field\n",
    "        self.fixed_point_iter=fixed_point_iter\n",
    "        self.iim_iter = iim_iter\n",
    "        self.fp_tol_fac=fp_tol_fac\n",
    "        self.iim_tol_fac=iim_tol_fac\n",
    "        self.step_size=step_size\n",
    "        if init_mag=='aligned':\n",
    "            self.init_mag=np.ones(self.graph_size)\n",
    "        else:\n",
    "            self.init_mag = init_mag \n",
    "            \n",
    "        \n",
    "    def single_mag(self,i,m,beta,field):\n",
    "        gamma=1.0\n",
    "        spin_field = np.dot(self.adj_matrix[i],m)\n",
    "        term = math.tanh(beta*(spin_field+field[i]))\n",
    "        return (1.0-gamma)*m[i] + gamma*term\n",
    "    \n",
    "    def magnetisation(self,mag,beta,field):\n",
    "        m_old = mag\n",
    "        m_new = np.zeros(len(m_old))\n",
    "        for i in range(system.graph_size):\n",
    "            m_new[i]=system.single_mag(i,m_old,beta,field)\n",
    "        return m_new\n",
    "\n",
    "    def Steffensen_method(self,mag,beta,field,mag_delta_history,it):      \n",
    "        # Numerical Analysis Richard L.Burden 9th Edition, p. 107\n",
    "        \n",
    "        if len(mag_delta_history)==0:\n",
    "            mag0=mag\n",
    "        else:\n",
    "            mag0=mag_delta_history[it]\n",
    "        \n",
    "        for i in range(self.fixed_point_iter):     \n",
    "            mag1=self.magnetisation(mag0,beta,field)\n",
    "            mag2=self.magnetisation(mag1,beta,field)   \n",
    "\n",
    "            mag_d = mag - (mag1-mag)**2/(mag+mag2-2*mag1) \n",
    "            \n",
    "            if np.sum(abs(mag1-mag_d))<self.fp_tol_fac: \n",
    "                break\n",
    "            if i+1==self.fixed_point_iter:\n",
    "                print('Failed to solve self-consistency equation. Consider increasing fixed_point_iter parameter')\n",
    "                \n",
    "            mag_delta_history.append(mag_d)\n",
    "        return mag_d,mag_delta_history\n",
    "    \n",
    "    def mag_grad(self,beta,mag):\n",
    "        # Mean Field Susceptibility;\n",
    "        \n",
    "        if all([math.isclose(i,j,abs_tol=1e-5) for i,j in zip(mag,np.ones(len(mag)))]):\n",
    "            gradient = np.zeros(len(mag))\n",
    "        else:\n",
    "            D=np.identity(self.graph_size)*np.array([(1-i**2) for i in mag]) # equals to 0 if all m's are 1 or close to 1\n",
    "            inv = np.linalg.inv(np.identity(self.graph_size)-beta*D*self.adj_matrix)\n",
    "            susc_matrix = beta*inv*D\n",
    "            gradient = np.sum(susc_matrix,axis=1).A1\n",
    "            gradient = (1.0 / np.linalg.norm(gradient))*gradient #Normalise\n",
    "\n",
    "        return gradient\n",
    "    \n",
    "    \n",
    "    def MF_IIM(self,field_budget,beta,init_control_field='uniform'):\n",
    "              \n",
    "        if init_control_field=='uniform':\n",
    "            control_field = (field_budget/self.graph_size)*np.ones(self.graph_size)\n",
    "        else:\n",
    "            control_field = init_control_field\n",
    "\n",
    "        # initial magnetisation as influenced by initial budget spread\n",
    "        # note: different from init_mag which denotes initial magnetisation *without* the external field      \n",
    "        tot_field = np.array(self.background_field+control_field)\n",
    "\n",
    "        control_field_history=[]\n",
    "        control_field_history.append(control_field)\n",
    "        mag_delta_history=[]\n",
    "        \n",
    "        mag_i,mag_delta_history = self.Steffensen_method(self.init_mag,beta,tot_field,mag_delta_history,0)\n",
    "        \n",
    "        for it in range(self.iim_iter):\n",
    "            mag_i_grad = self.mag_grad(beta,mag_i)\n",
    "            control_field = control_field_history[it]\n",
    "\n",
    "            control_field_update = (control_field + self.step_size*mag_i_grad)\n",
    "\n",
    "            control_field_new = projection_simplex_sort(control_field_update.T,z=field_budget)\n",
    "\n",
    "            \n",
    "            tot_field = np.array(self.background_field+control_field_new)\n",
    "            mag_ii,mag_delta_history = self.Steffensen_method(mag_i,beta,tot_field,mag_delta_history,it)\n",
    "\n",
    "\n",
    "            if np.sum(np.abs(mag_ii-mag_i)) <= self.iim_tol_fac:\n",
    "                break\n",
    "            control_field_history.append(control_field_new)\n",
    "            mag_i=mag_ii\n",
    "        if it==self.iim_iter-1:\n",
    "            print('Failed to converge after {} iterations'.format(self.iim_iter))\n",
    "            \n",
    "        return control_field,it\n",
    "            \n",
    "        \n",
    "                \n",
    "budget=1.0\n",
    "h = np.zeros(len(G.nodes.keys()))\n",
    "\n",
    "system = mf_ising_system(G,h,iim_iter=1000,fixed_point_iter=int(5*1e4))\n",
    "\n",
    "\n",
    "beta_crit=crit_b(system.adj_matrix)\n",
    "beta = 0.9\n",
    "print(beta_crit)\n",
    "control,it=system.MF_IIM(budget,beta)\n"
   ]
  },
  {
   "cell_type": "code",
   "execution_count": 150,
   "id": "consecutive-toyota",
   "metadata": {},
   "outputs": [
    {
     "name": "stdout",
     "output_type": "stream",
     "text": [
      "FINISHED\n"
     ]
    }
   ],
   "source": [
    "beta_list = np.logspace(-0.7, 0.5, endpoint=True)\n",
    "y = np.zeros(len(beta_list))\n",
    "control_history=[]\n",
    "for beta in beta_list:\n",
    "    system = mf_ising_system(G,h,iim_iter=100000)\n",
    "    control,_=system.MF_IIM(budget,beta)\n",
    "    control_history.append(control)\n",
    "\n",
    "print('FINISHED')    "
   ]
  },
  {
   "cell_type": "code",
   "execution_count": 149,
   "id": "acknowledged-baking",
   "metadata": {},
   "outputs": [
    {
     "data": {
      "image/png": "[encoded data removed]",
      "text/plain": [
       "<Figure size 432x288 with 1 Axes>"
      ]
     },
     "metadata": {
      "needs_background": "light"
     },
     "output_type": "display_data"
    }
   ],
   "source": [
    "import matplotlib\n",
    "\n",
    "avs_degrees=np.zeros(len(control_history))\n",
    "for it,control in enumerate(control_history):\n",
    "    average_degree = np.sum([G.degree[i]*con for i,con in enumerate(control)])\n",
    "    avs_degrees[it]=average_degree\n",
    "\n",
    "fig,ax = plt.subplots(figsize=(10,5))\n",
    "\n",
    "ax.plot(beta_list,avs_degrees)\n",
    "ax.set_xscale(value='log')\n",
    "\n",
    "\n",
    "ax.set_xticks([0.2,0.3,0.5,1.0,2.0, 3.0])\n",
    "ax.get_xaxis().set_major_formatter(matplotlib.ticker.ScalarFormatter())\n",
    "ax.set_ylabel('Average degree')\n",
    "ax.set_xlabel(r'Interaction Strenght (beta)')\n",
    "plt.show()\n"
   ]
  },
  {
   "cell_type": "code",
   "execution_count": null,
   "id": "right-eclipse",
   "metadata": {},
   "outputs": [],
   "source": []
  },
  {
   "cell_type": "code",
   "execution_count": null,
   "id": "hindu-wisdom",
   "metadata": {},
   "outputs": [],
   "source": []
  },
  {
   "cell_type": "code",
   "execution_count": null,
   "id": "subject-steam",
   "metadata": {},
   "outputs": [],
   "source": []
  },
  {
   "cell_type": "code",
   "execution_count": null,
   "id": "eleven-henry",
   "metadata": {},
   "outputs": [],
   "source": []
  },
  {
   "cell_type": "code",
   "execution_count": null,
   "id": "frozen-sacrifice",
   "metadata": {},
   "outputs": [],
   "source": []
  }
 ],
 "metadata": {
  "kernelspec": {
   "display_name": "Python 3",
   "language": "python",
   "name": "python3"
  },
  "language_info": {
   "codemirror_mode": {
    "name": "ipython",
    "version": 3
   },
   "file_extension": ".py",
   "mimetype": "text/x-python",
   "name": "python",
   "nbconvert_exporter": "python",
   "pygments_lexer": "ipython3",
   "version": "3.9.0"
  }
 },
 "nbformat": 4,
 "nbformat_minor": 5
}
