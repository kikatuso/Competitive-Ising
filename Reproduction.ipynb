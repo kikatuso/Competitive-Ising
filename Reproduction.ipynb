{
 "cells": [
  {
   "cell_type": "code",
   "execution_count": 1,
   "id": "endless-textbook",
   "metadata": {},
   "outputs": [],
   "source": [
    "import networkx as nx \n",
    "import numpy as np \n",
    "import pandas as pd\n",
    "import matplotlib.pyplot as plt\n",
    "import math "
   ]
  },
  {
   "cell_type": "code",
   "execution_count": 196,
   "id": "quiet-curtis",
   "metadata": {},
   "outputs": [
    {
     "data": {
      "image/png": "[encoded data removed]",
      "text/plain": [
       "<Figure size 432x288 with 1 Axes>"
      ]
     },
     "metadata": {},
     "output_type": "display_data"
    }
   ],
   "source": [
    "G = nx.star_graph(5)\n",
    "\n",
    "\n",
    "B_param_init = lambda arr: {list(G.nodes)[i]: arr[i] for i in range(len(list(G.nodes)))}\n",
    "h = np.zeros(len(list(G.nodes)))\n",
    "\n",
    "B_init = B_param_init(h)\n",
    "\n",
    "\n",
    "nx.set_node_attributes(G,B_init, \"exp_field\")\n",
    "nx.draw(G,node_size=(h+1)*100)\n",
    "\n",
    "\n"
   ]
  },
  {
   "cell_type": "code",
   "execution_count": 248,
   "id": "postal-culture",
   "metadata": {},
   "outputs": [
    {
     "name": "stdout",
     "output_type": "stream",
     "text": [
      "(array([0.83333333, 0.83333333, 0.83333333, 0.83333333, 0.83333333,\n",
      "       0.83333333]), 0)\n"
     ]
    }
   ],
   "source": [
    "from scipy.optimize import fixed_point\n",
    "\n",
    "\n",
    "def projection_simplex_pivot(v, z=1, random_state=None):\n",
    "    rs = np.random.RandomState(random_state)\n",
    "    n_features = len(v)\n",
    "    U = np.arange(n_features)\n",
    "    s = 0\n",
    "    rho = 0\n",
    "    while len(U) > 0:\n",
    "        G = []\n",
    "        L = []\n",
    "        k = U[rs.randint(0, len(U))]\n",
    "        ds = v[k]\n",
    "        for j in U:\n",
    "            if v[j] >= v[k]:\n",
    "                if j != k:\n",
    "                    ds += v[j]\n",
    "                    G.append(j)\n",
    "            elif v[j] < v[k]:\n",
    "                L.append(j)\n",
    "        drho = len(G) + 1\n",
    "        if s + ds - (rho + drho) * v[k] < z:\n",
    "            s += ds\n",
    "            rho += drho\n",
    "            U = L\n",
    "        else:\n",
    "            U = G\n",
    "    theta = (s - z) / float(rho)\n",
    "    return np.maximum(v - theta, 0)\n",
    "\n",
    "\n",
    "def projection_simplex_sort(v, z=1):\n",
    "    n_features = v.shape[0]\n",
    "    u = np.sort(v)[::-1]\n",
    "    cssv = np.cumsum(u) - z\n",
    "    ind = np.arange(n_features) + 1\n",
    "    cond = u - cssv / ind > 0\n",
    "    rho = ind[cond][-1]\n",
    "    theta = cssv[cond][-1] / float(rho)\n",
    "    w = np.maximum(v - theta, 0)\n",
    "    return w\n",
    "\n",
    "        \n",
    "class mf_ising_system:\n",
    "\n",
    "    def __init__(self,graph,background_field,fixed_point_iter=1000,init_mag=None,fp_tol_fac=10-8,iim_iter=1000,step_size=1.0,\n",
    "        iim_tol_fac=1e-5):\n",
    "        self.adj_matrix = nx.to_numpy_matrix(graph)\n",
    "        self.graph_size = len(graph.nodes.keys())\n",
    "        self.background_field = background_field\n",
    "        self.fixed_point_iter=fixed_point_iter\n",
    "        self.iim_iter = iim_iter\n",
    "        self.fp_tol_fac=fp_tol_fac\n",
    "        self.iim_tol_fac=iim_tol_fac\n",
    "        self.step_size=step_size\n",
    "        if all(init_mag)==None:\n",
    "            self.init_mag=np.ones(self.graph_size)\n",
    "        else:\n",
    "            self.init_mag = init_mag \n",
    "            \n",
    "        \n",
    "    def single_mag(self,i,m,beta,field):\n",
    "        spin_field = np.dot(self.adj_matrix[i],m)\n",
    "        return math.tanh(beta*(spin_field+field[i]))\n",
    "    \n",
    "    def magnetisation(self,beta,mag,field):\n",
    "        m_old = mag\n",
    "        m_new = np.zeros(len(m_old))\n",
    "        for i in range(system.graph_size):\n",
    "            m_new[i]=system.single_mag(i,m_old,beta,field)\n",
    "        return m_new\n",
    "\n",
    "    \n",
    "    def fixedPointAitken(self,beta,mag,field):      \n",
    "        # Numerical Analysis Richard L.Burden 9th Edition, p. 105\n",
    "        \n",
    "        for it in range(self.fixed_point_iter):                 \n",
    "            mag1=self.magnetisation(beta,mag,field)\n",
    "            mag2=self.magnetisation(beta,mag1,field)   \n",
    "\n",
    "            if abs(np.sum(mag1-mag))<self.fp_tol_fac: break\n",
    "            mag = mag - (mag1-mag)**2/(mag+mag2-2*mag1) \n",
    "        return mag\n",
    "    \n",
    "    def mag_grad(self,beta,mag):\n",
    "        # Mean Field Susceptibility;\n",
    "        \n",
    "        if all([math.isclose(i,j,abs_tol=1e-4) for i,j in zip(mag,np.ones(len(mag)))]):\n",
    "            gradient = np.zeros(len(mag))\n",
    "        else:\n",
    "            D=np.sum([(1-mag[i]**2) for i in range(self.graph_size)]) # equals to 0 if all m's are 1 or close to 1\n",
    "            susc_matrix = beta*np.linalg.inv(np.identity(self.graph_size)-beta*D*self.adj_matrix)*D\n",
    "            gradient = np.sum(susc_matrix,axis=0)\n",
    "                \n",
    "        return gradient\n",
    "    \n",
    "    def MF_IIM(self,field_budget,beta,init_control_field='uniform'):\n",
    "              \n",
    "        if init_control_field=='uniform':\n",
    "            control_field = (field_budget/self.graph_size)*np.ones(self.graph_size)\n",
    "        else:\n",
    "            control_field = init_control_field\n",
    "\n",
    "        # initial magnetisation as influenced by initial budget spread\n",
    "        # note: different from init_mag which denotes initial magnetisation *without* the external field      \n",
    "        tot_field = np.array(self.background_field+control_field)\n",
    "\n",
    "        control_field_history=[]\n",
    "        control_field_history.append(control_field)\n",
    "        mag_i = self.fixedPointAitken(beta,mag_0,tot_field)\n",
    "        for it in range(self.iim_iter):\n",
    "            mag_i_grad = self.mag_grad(beta,mag_i).A1\n",
    "            control_field = control_field_history[it]\n",
    "\n",
    "            control_field_update = (control_field + self.step_size*mag_i_grad)\n",
    "\n",
    "            control_field_new = projection_simplex_pivot(control_field_update.T,z=field_budget)\n",
    "\n",
    "            \n",
    "            tot_field = np.array(self.background_field+control_field_new)\n",
    "            mag_ii = self.fixedPointAitken(beta,mag_i,tot_field)\n",
    "\n",
    "\n",
    "            if np.abs(np.sum(mag_ii-mag_i)) <= self.iim_tol_fac:\n",
    "                break\n",
    "            control_field_history.append(control_field_new)\n",
    "            mag_i=mag_ii\n",
    "        if it==self.iim_iter:\n",
    "            print('Failed to converge after {} iterations'.format(self.iim_iter))\n",
    "            \n",
    "        return control_field,it\n",
    "            \n",
    "        \n",
    "                \n",
    "budget=5.0\n",
    "beta=0.24\n",
    "init_mag=np.array([2.0,1.0,0.0,3.4,3.9,0.0])\n",
    "\n",
    "\n",
    "system = mf_ising_system(G,h,init_mag=init_mag)\n",
    "    \n",
    "x=system.MF_IIM(budget,beta)\n",
    "print(x)\n"
   ]
  },
  {
   "cell_type": "code",
   "execution_count": null,
   "id": "consecutive-toyota",
   "metadata": {},
   "outputs": [],
   "source": [
    "\n",
    "control_field = (budget/system.graph_size)*np.ones(system.graph_size)\n",
    "bf = system.background_field+control_field\n",
    "mag0 = system.fixedPointAitken(beta,system.init_mag,bf)\n",
    "mag1=system.fixedPointAitken(beta,mag_0,bf)\n",
    "print(mag1)\n",
    "mag1_g = system.mag_grad(beta,mag1)\n",
    "\n",
    "control_field_update = control_field + system.step_size*mag1_g\n",
    "\n",
    "control_field_new = projection_simplex_sort(control_field_update.T,z=budget).A1\n",
    "\n",
    "bf = system.background_field+control_field_new\n",
    "mag2 = system.fixedPointAitken(beta,mag1,bf)\n",
    "print(mag2)"
   ]
  },
  {
   "cell_type": "code",
   "execution_count": 108,
   "id": "right-eclipse",
   "metadata": {},
   "outputs": [
    {
     "name": "stdout",
     "output_type": "stream",
     "text": [
      "1.9999999999999991\n"
     ]
    }
   ],
   "source": [
    " \n",
    "def func(x):\n",
    "    try:\n",
    "        return 1/3*x**2+2/3\n",
    "    except Exception as e:\n",
    "        print(x)\n",
    "        \n",
    "def FixedPointAitken(func,p0,tolerance):                     \n",
    "    for it in range(system.fixed_point_iter):                 \n",
    "        p1=func(p0)\n",
    "        p2=func(p1)   \n",
    "\n",
    "        if abs(np.sum(p1-p0))<tolerance: break\n",
    "        p0 = p0 - (p1-p0)**2/(p0+p2-2*p1) \n",
    "    return p0\n",
    "        \n",
    "\n",
    "z=FixedPointAitken(func,2.1,1e-10)\n",
    "print(z)"
   ]
  },
  {
   "cell_type": "code",
   "execution_count": 23,
   "id": "hindu-wisdom",
   "metadata": {},
   "outputs": [
    {
     "data": {
      "text/plain": [
       "array([0.66403677, 0.19737532, 0.19737532, 0.19737532, 0.19737532])"
      ]
     },
     "execution_count": 23,
     "metadata": {},
     "output_type": "execute_result"
    }
   ],
   "source": [
    "system.update(beta)"
   ]
  },
  {
   "cell_type": "code",
   "execution_count": 39,
   "id": "subject-steam",
   "metadata": {},
   "outputs": [
    {
     "data": {
      "text/plain": [
       "matrix([[0., 1., 1., 1., 1.]])"
      ]
     },
     "execution_count": 39,
     "metadata": {},
     "output_type": "execute_result"
    }
   ],
   "source": [
    "J[0]"
   ]
  },
  {
   "cell_type": "code",
   "execution_count": 52,
   "id": "eleven-henry",
   "metadata": {},
   "outputs": [
    {
     "data": {
      "text/plain": [
       "5"
      ]
     },
     "execution_count": 52,
     "metadata": {},
     "output_type": "execute_result"
    }
   ],
   "source": []
  },
  {
   "cell_type": "code",
   "execution_count": null,
   "id": "frozen-sacrifice",
   "metadata": {},
   "outputs": [],
   "source": []
  }
 ],
 "metadata": {
  "kernelspec": {
   "display_name": "Python 3",
   "language": "python",
   "name": "python3"
  },
  "language_info": {
   "codemirror_mode": {
    "name": "ipython",
    "version": 3
   },
   "file_extension": ".py",
   "mimetype": "text/x-python",
   "name": "python",
   "nbconvert_exporter": "python",
   "pygments_lexer": "ipython3",
   "version": "3.9.0"
  }
 },
 "nbformat": 4,
 "nbformat_minor": 5
}
