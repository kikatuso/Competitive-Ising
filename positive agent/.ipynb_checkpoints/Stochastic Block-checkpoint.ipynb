{
 "cells": [
  {
   "cell_type": "code",
   "execution_count": 1,
   "id": "endless-textbook",
   "metadata": {},
   "outputs": [],
   "source": [
    "import networkx as nx \n",
    "import numpy as np \n",
    "import matplotlib.pyplot as plt\n",
    "\n",
    "from src import SingleAgent as sa\n",
    "from src import helperfunctions as hf\n",
    "from src import MonteCarloIsing as mci"
   ]
  },
  {
   "cell_type": "code",
   "execution_count": 2,
   "id": "quiet-curtis",
   "metadata": {},
   "outputs": [],
   "source": [
    "sizes = [50,50] # sizes of blocks\n",
    "probs = [[0.2, 0.05], [0.05, 0.05]]\n",
    "G = nx.stochastic_block_model(sizes, probs, seed=0)\n",
    "\n",
    "\n",
    "#G.graph['partition'][1] get nodes from 2nd stochastic block\n",
    "\n",
    "J = nx.to_numpy_matrix(G)\n",
    "\n",
    "\n",
    "def running_mean(x, N):\n",
    "    cumsum = np.cumsum(np.insert(x, 0, 0)) \n",
    "    return (cumsum[N:] - cumsum[:-N]) / float(N)\n"
   ]
  },
  {
   "cell_type": "code",
   "execution_count": 3,
   "id": "postal-culture",
   "metadata": {},
   "outputs": [],
   "source": [
    "budget=20.0\n",
    "h = np.zeros(len(G.nodes.keys()))\n",
    "\n",
    "system = sa.mf_ising_system(G,h,iim_iter=1000,fixed_point_iter=int(5*1e2),step_size=0.01)\n",
    "\n",
    "\n",
    "beta_crit=hf.crit_b(system.adj_matrix)\n",
    "beta = beta_crit\n",
    "control,final_mag=system.MF_IIM(budget,beta)\n"
   ]
  },
  {
   "cell_type": "code",
   "execution_count": 4,
   "id": "second-judgment",
   "metadata": {},
   "outputs": [
    {
     "name": "stdout",
     "output_type": "stream",
     "text": [
      "10.250303446536531 9.749696553463473\n"
     ]
    }
   ],
   "source": [
    "block1,block2 = np.sum(control[:50]),np.sum(control[50:])\n",
    "print(block1,block2)\n"
   ]
  },
  {
   "cell_type": "code",
   "execution_count": null,
   "id": "consecutive-toyota",
   "metadata": {},
   "outputs": [],
   "source": [
    "budget=20.0\n",
    "\n",
    "\n",
    "beta_min = 0.5*beta_crit \n",
    "beta_max = 3*beta_crit \n",
    "\n",
    "beta_list = np.logspace(np.log10(beta_min),np.log10(beta_max),num=10,endpoint=True,base=10)\n",
    "y = np.zeros(len(beta_list))\n",
    "control_history=np.zeros((len(beta_list),2))\n",
    "\n",
    "normal_params = {'graph':G,'background_field':h,\n",
    "                         'iim_iter':5000,'iim_tol_fac':1e-6,'fixed_point_iter':5000,\n",
    "                         'step_size':1.75,'fp_tol_fac':10-7}\n",
    "\n",
    "\n",
    "for i,beta in enumerate(beta_list):\n",
    "    \n",
    "    \n",
    "    if beta > 0.09 and beta<0.13:\n",
    "        extra_params = normal_params.copy()\n",
    "        extra_params['step_size']=1.75\n",
    "        extra_params['fixed_point_iter'] = 10000\n",
    "\n",
    "    else:\n",
    "        system = sa.mf_ising_system(**normal_params)\n",
    "        \n",
    "    control,_=system.MF_IIM(budget,beta)\n",
    "    block1,block2 = np.sum(control[:50]),np.sum(control[50:])\n",
    "    control_history[i]=np.array([block1,block2])\n",
    "        \n",
    "    if i%1==0:\n",
    "        print(i,beta)\n",
    "\n",
    "print('FINISHED')    "
   ]
  },
  {
   "cell_type": "code",
   "execution_count": null,
   "id": "acknowledged-baking",
   "metadata": {},
   "outputs": [],
   "source": [
    "import matplotlib\n",
    "\n",
    "\n",
    "matplotlib.rcParams.update({'font.size': 14,'figure.figsize':(7,5),'axes.labelsize': 'large',\n",
    "                           'axes.titlesize':18})\n",
    "\n",
    "# to_del =[80,81]\n",
    "# control_history_edit= np.delete(control_history,to_del,axis=0)\n",
    "# beta_list_edit = np.delete(beta_list,to_del,axis=0)\n",
    "\n",
    "\n",
    "fig,ax = plt.subplots()\n",
    "\n",
    "ax.plot(beta_list,control_history[:,0],c='orange',label='Block 1',linestyle='dashed',linewidth=3)\n",
    "ax.plot(beta_list,control_history[:,1],c='green',label='Block 2',linestyle='dashed',linewidth=3)\n",
    "\n",
    "ax.set_xscale(value='log')\n",
    "\n",
    "plt.locator_params(axis='x',numticks=10)\n",
    "ax.get_xaxis().set_major_formatter(matplotlib.ticker.ScalarFormatter())\n",
    "ax.set_ylabel('Average degree')\n",
    "ax.vlines(beta_crit,ymin=0,ymax=20,linestyles='dashed',color='black',label=r'$\\beta_{crit}$')\n",
    "ax.set_xlabel(r'Interaction Strenght $\\beta$')\n",
    "ax.set_title('Application of Influence across blocks \\n as a function of interaction strenght')\n",
    "ax.legend()\n",
    "plt.show()\n"
   ]
  },
  {
   "cell_type": "code",
   "execution_count": 5,
   "id": "fitted-thesaurus",
   "metadata": {},
   "outputs": [
    {
     "name": "stdout",
     "output_type": "stream",
     "text": [
      "22.867610281793766\n",
      "17.18\n"
     ]
    }
   ],
   "source": [
    "budget = 40\n",
    "\n",
    "mc_system = mci.monte_carlo_simulations(G,h,0.5)\n",
    "\n",
    "mag,er = mc_system.centrality(budget,1000,200,beta_crit)\n",
    "\n",
    "\n",
    "print(er)\n",
    "print(mag)"
   ]
  },
  {
   "cell_type": "code",
   "execution_count": 6,
   "id": "subject-steam",
   "metadata": {},
   "outputs": [
    {
     "name": "stdout",
     "output_type": "stream",
     "text": [
      "0\n",
      "5\n",
      "10\n",
      "15\n",
      "20\n",
      "25\n",
      "30\n",
      "35\n"
     ]
    }
   ],
   "source": [
    "budgets = np.arange(0,40,5)\n",
    "system = sa.mf_ising_system(G,h,iim_iter=1000,fixed_point_iter=1000,step_size=1.76)\n",
    "\n",
    "\n",
    "\n",
    "T = 50\n",
    "MC = 500\n",
    "all_types={'MF':[],'Central':[],'Random':[],'Degree':[]}\n",
    "\n",
    "for budget in budgets:\n",
    "    print(budget)\n",
    "    #print('MF')\n",
    "    control,final_mag=system.MF_IIM(budget,beta_crit)\n",
    "    mag_mf = np.sum(final_mag)\n",
    "    all_types['MF'].append(mag_mf)\n",
    "    \n",
    "    #print('Central')\n",
    "    mean_c,std_c= mc_system.centrality(budget,T,MC,beta_crit)\n",
    "    all_types['Central'].append(mean_c)\n",
    "\n",
    "    #print('Degree')\n",
    "    mean_d,std_d = mc_system.degree(budget,T,MC,beta_crit)\n",
    "    all_types['Degree'].append(mean_d)\n",
    "\n",
    "    #print('Random')\n",
    "    mean_r,std_r= mc_system.random_set(budget,T,MC,beta_crit)\n",
    "    all_types['Random'].append(mean_r)\n",
    "\n",
    "\n"
   ]
  },
  {
   "cell_type": "code",
   "execution_count": 7,
   "id": "frozen-sacrifice",
   "metadata": {},
   "outputs": [
    {
     "data": {
      "image/png": "[encoded data removed]",
      "text/plain": [
       "<Figure size 432x288 with 1 Axes>"
      ]
     },
     "metadata": {
      "needs_background": "light"
     },
     "output_type": "display_data"
    }
   ],
   "source": [
    "fig,ax=plt.subplots()\n",
    "lw=3\n",
    "ax.plot(budgets,all_types['MF'],label='MF optimal',linewidth=lw)\n",
    "ax.plot(budgets,all_types['Central'],label='Central',linestyle='dashed',linewidth=lw)\n",
    "ax.plot(budgets,all_types['Random'],label='Random',linestyle='dashed',linewidth=lw)\n",
    "ax.plot(budgets,all_types['Degree'],label='Degree',linestyle='dashed',linewidth=lw)\n",
    "ax.set_xlabel('Budget [H]')\n",
    "ax.set_ylabel('Total Opinion [M]')\n",
    "ax.set_title('MF-IIM budget allocation \\n and common node-selection heuristics')\n",
    "ax.legend()\n",
    "plt.show()"
   ]
  },
  {
   "cell_type": "code",
   "execution_count": null,
   "id": "designing-contributor",
   "metadata": {},
   "outputs": [],
   "source": []
  },
  {
   "cell_type": "code",
   "execution_count": null,
   "id": "working-director",
   "metadata": {},
   "outputs": [],
   "source": [
    "def monte_carlo(system,control,repeat_factor=500,beta=beta_crit):\n",
    "    total_mag_history = np.zeros(repeat_factor)\n",
    "    mag_old = system.init_spins\n",
    "    \n",
    "    for jt in range(repeat_factor):\n",
    "        for it in range(system.graph_size):\n",
    "            spin_int = random.randint(0,len(system.init_spins)-1)\n",
    "            surr_spin = float(system.adj_matrix[spin_int,:]@mag_old)    \n",
    "            hamiltonian = lambda mag: -(mag[spin_int]*(surr_spin+control[spin_int]))\n",
    "            mag_rev = (-1)*mag_old[spin_int]\n",
    "            mags_trial = mag_old\n",
    "            mags_trial[spin_int] = mag_rev\n",
    "            w = np.exp( -beta*(hamiltonian(mags_trial) - hamiltonian(mag_old)) )\n",
    "            prob = random.uniform(0, 1)\n",
    "            \n",
    "            if prob <=w:\n",
    "                mags_old = mags_trial\n",
    "            else:\n",
    "                continue\n",
    "        total_mag = np.sum(mag_old)\n",
    "        total_mag_history[jt] = total_mag\n",
    "        if len(total_mag_history)>11:\n",
    "            previous_average_mag=np.mean(total_mag_history[jt-10:jt-1])\n",
    "        else:\n",
    "            previous_average_mag = np.mean(total_mag_history[0,jt-1])\n",
    "        if np.abs(total_mag-previous_average_mag)<1e-5:\n",
    "            mag_final = total_mag\n",
    "            break\n",
    "        if (jt+1)==repeat_factor:\n",
    "            print('Failed to stabilise.')\n",
    "            mag_final = total_mag\n",
    "    return mag_final\n",
    "\n",
    "\n",
    "#delta_e = 2*mag_old[spin_int]*(surr_spin+control[spin_int])\n",
    "\n",
    "def cluster_monte_carlo(system,G,beta,T,T_burn=0):\n",
    "    J = nx.to_numpy_matrix(G)\n",
    "    total_mag_history = np.zeros((T,system.graph_size))\n",
    "    mag_old = system.init_spins\n",
    "    for t in range(T+T_burn):\n",
    "        \n",
    "        P=1.0-np.exp(-2.0*beta*J)\n",
    "        adjacency = np.random.rand(*P.shape) <= P # adjacency[ii, jj] is True with probability P[ii, jj]\n",
    "        bonds = nx.from_numpy_matrix(adjacency, nx.Graph)\n",
    "        clusters = [bonds.subgraph(c) for c in nx.connected_components(bonds)]\n",
    "        for cluster in clusters:\n",
    "            spin = np.random.choice([-1,1],p=[0.5,0.5])\n",
    "            mag_old[cluster.nodes] = spin\n",
    "            if t>T_burn:\n",
    "                total_mag_history[t]=mag_old\n",
    "           \n",
    "    mag_final = mag_old\n",
    "    mag_sum_history = np.sum(total_mag_history,axis=1)\n",
    "    return mag_final,mag_sum_history\n",
    "\n",
    "\n",
    "\n",
    "iters=5000\n",
    "\n",
    "mc_system = monte_carlo_simulations(G,h,0.1)\n",
    "mag,mag_history=cluster_monte_carlo(mc_system,G,0.5,iters)\n",
    "\n",
    "    "
   ]
  },
  {
   "cell_type": "code",
   "execution_count": null,
   "id": "selected-musical",
   "metadata": {},
   "outputs": [],
   "source": []
  },
  {
   "cell_type": "code",
   "execution_count": null,
   "id": "frozen-coffee",
   "metadata": {},
   "outputs": [],
   "source": []
  }
 ],
 "metadata": {
  "kernelspec": {
   "display_name": "Python 3",
   "language": "python",
   "name": "python3"
  },
  "language_info": {
   "codemirror_mode": {
    "name": "ipython",
    "version": 3
   },
   "file_extension": ".py",
   "mimetype": "text/x-python",
   "name": "python",
   "nbconvert_exporter": "python",
   "pygments_lexer": "ipython3",
   "version": "3.9.0"
  }
 },
 "nbformat": 4,
 "nbformat_minor": 5
}
