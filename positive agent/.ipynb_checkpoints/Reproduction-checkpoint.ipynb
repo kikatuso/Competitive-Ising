{
 "cells": [
  {
   "cell_type": "code",
   "execution_count": 1,
   "id": "endless-textbook",
   "metadata": {},
   "outputs": [],
   "source": [
    "import networkx as nx \n",
    "import numpy as np \n",
    "import pandas as pd\n",
    "import matplotlib.pyplot as plt\n",
    "import math\n",
    "from scipy import optimize\n",
    "import scipy\n",
    "import sys"
   ]
  },
  {
   "cell_type": "code",
   "execution_count": 2,
   "id": "quiet-curtis",
   "metadata": {},
   "outputs": [
    {
     "data": {
      "image/png": "[encoded data removed]",
      "text/plain": [
       "<Figure size 432x288 with 1 Axes>"
      ]
     },
     "metadata": {},
     "output_type": "display_data"
    }
   ],
   "source": [
    "G = nx.star_graph(4)\n",
    "h = np.zeros(len(G.nodes.keys()))\n",
    "\n",
    "\n",
    "nx.draw(G)"
   ]
  },
  {
   "cell_type": "code",
   "execution_count": 3,
   "id": "frank-edward",
   "metadata": {},
   "outputs": [],
   "source": [
    "\n",
    "def projection_simplex_pivot(v, z=1, random_state=None):\n",
    "    rs = np.random.RandomState(random_state)\n",
    "    n_features = len(v)\n",
    "    U = np.arange(n_features)\n",
    "    s = 0\n",
    "    rho = 0\n",
    "    while len(U) > 0:\n",
    "        G = []\n",
    "        L = []\n",
    "        k = U[rs.randint(0, len(U))]\n",
    "        ds = v[k]\n",
    "        for j in U:\n",
    "            if v[j] >= v[k]:\n",
    "                if j != k:\n",
    "                    ds += v[j]\n",
    "                    G.append(j)\n",
    "            elif v[j] < v[k]:\n",
    "                L.append(j)\n",
    "        drho = len(G) + 1\n",
    "        if s + ds - (rho + drho) * v[k] < z:\n",
    "            s += ds\n",
    "            rho += drho\n",
    "            U = L\n",
    "        else:\n",
    "            U = G\n",
    "    theta = (s - z) / float(rho)\n",
    "    return np.maximum(v - theta, 0)\n",
    "\n",
    "\n",
    "def projection_simplex_sort(v, z=1):\n",
    "    n_features = v.shape[0]\n",
    "    u = np.sort(v)[::-1]\n",
    "    cssv = np.cumsum(u) - z\n",
    "    ind = np.arange(n_features) + 1\n",
    "    cond = u - cssv / ind > 0\n",
    "    rho = ind[cond][-1]\n",
    "    theta = cssv[cond][-1] / float(rho)\n",
    "    w = np.maximum(v - theta, 0)\n",
    "    return w\n",
    "\n",
    "\n",
    "def crit_b(J):\n",
    "    eigenvalues,_ = np.linalg.eig(J)\n",
    "    return 1./np.max(np.abs(eigenvalues))\n",
    "\n",
    "def average_degree(control):\n",
    "    return np.sum([G.degree[i]*con for i,con in enumerate(control)])\n"
   ]
  },
  {
   "cell_type": "code",
   "execution_count": 4,
   "id": "postal-culture",
   "metadata": {},
   "outputs": [
    {
     "name": "stdout",
     "output_type": "stream",
     "text": [
      "0.5\n"
     ]
    }
   ],
   "source": [
    "        \n",
    "class mf_ising_system:\n",
    "\n",
    "    def __init__(self,graph,background_field,fixed_point_iter=int(5*1e4),init_mag='aligned',fp_tol_fac=10-6,\n",
    "        iim_iter=1000,step_size=1.0,iim_tol_fac=1e-5):\n",
    "        \n",
    "        self.graph = graph\n",
    "        self.adj_matrix = nx.to_numpy_matrix(graph)\n",
    "        self.graph_size = len(graph.nodes.keys())\n",
    "        self.background_field = background_field\n",
    "        self.fixed_point_iter=fixed_point_iter\n",
    "        self.iim_iter = iim_iter\n",
    "        self.fp_tol_fac=fp_tol_fac\n",
    "        self.iim_tol_fac=iim_tol_fac\n",
    "        self.step_size=step_size\n",
    "        if init_mag=='aligned':\n",
    "            self.init_mag=np.ones(self.graph_size)\n",
    "        else:\n",
    "            self.init_mag = init_mag \n",
    "            \n",
    "        \n",
    "    def single_mag(self,i,m,beta,field):\n",
    "        gamma=1.0\n",
    "        spin_field = np.dot(self.adj_matrix[i],m) # TODO: IS THIS CORRECT?\n",
    "        term = math.tanh(beta*(spin_field+field[i]))\n",
    "        return (1.0-gamma)*m[i] + gamma*term\n",
    "    \n",
    "    def magnetisation(self,mag,beta,field):\n",
    "        m_old = mag\n",
    "        m_new = np.zeros(len(m_old))\n",
    "        for i in range(system.graph_size):\n",
    "            m_new[i]=system.single_mag(i,m_old,beta,field)\n",
    "        return m_new\n",
    "\n",
    "    def Steffensen_method(self,mag,beta,field,mag_delta_history,it):      \n",
    "        # Numerical Analysis Richard L.Burden 9th Edition, p. 107\n",
    "        \n",
    "        if len(mag_delta_history)==0:\n",
    "            mag0=mag\n",
    "        else:\n",
    "            mag0=mag_delta_history[it]\n",
    "        \n",
    "        for i in range(self.fixed_point_iter):     \n",
    "            mag1=self.magnetisation(mag0,beta,field)\n",
    "            mag2=self.magnetisation(mag1,beta,field)   \n",
    "\n",
    "            if np.all((mag+mag2-2*mag1)!=0):\n",
    "                mag_d = mag - (mag1-mag)**2/(mag+mag2-2*mag1) \n",
    "            else:\n",
    "                mag_d = mag1\n",
    "            \n",
    "            if abs(np.mean(mag1)-np.mean(mag_d))<self.fp_tol_fac: \n",
    "                break\n",
    "            if i+1==self.fixed_point_iter:\n",
    "                print('Failed to solve self-consistency equation. Consider increasing fixed_point_iter parameter')\n",
    "                mag_d = mag1\n",
    "                \n",
    "        mag_delta_history.append(mag_d)\n",
    "        return mag_d,mag_delta_history\n",
    "    \n",
    "    def mag_grad(self,beta,mag):\n",
    "        # Mean Field Susceptibility;\n",
    "        \n",
    "        if all([math.isclose(i,j,abs_tol=1e-5) for i,j in zip(mag,np.ones(len(mag)))]):\n",
    "            gradient = np.zeros(len(mag))\n",
    "        else:\n",
    "            D=np.identity(self.graph_size)*np.array([(1-i**2) for i in mag]) # equals to 0 if all m's are 1 or close to 1\n",
    "            inv = np.linalg.inv(np.identity(self.graph_size)-beta*D*self.adj_matrix)\n",
    "            susc_matrix = beta*inv*D\n",
    "            gradient = np.sum(susc_matrix,axis=1).A1\n",
    "            gradient = (1.0 / np.linalg.norm(gradient))*gradient #Normalise\n",
    "\n",
    "        return gradient\n",
    "    \n",
    "    \n",
    "    def MF_IIM(self,field_budget,beta,init_control_field='uniform'):\n",
    "              \n",
    "        if init_control_field=='uniform':\n",
    "            control_field = (field_budget/self.graph_size)*np.ones(self.graph_size)\n",
    "        else:\n",
    "            control_field = init_control_field\n",
    "\n",
    "        # initial magnetisation as influenced by initial budget spread\n",
    "        # note: different from init_mag which denotes initial magnetisation *without* the external field      \n",
    "        tot_field = np.array(self.background_field+control_field)\n",
    "\n",
    "        control_field_history=[]\n",
    "        control_field_history.append(control_field)\n",
    "        mag_delta_history=[]\n",
    "        \n",
    "        mag_i,mag_delta_history = self.Steffensen_method(self.init_mag,beta,tot_field,mag_delta_history,0)\n",
    "        \n",
    "        for it in range(self.iim_iter):\n",
    "            mag_i_grad = self.mag_grad(beta,mag_i)\n",
    "            control_field = control_field_history[it]\n",
    "\n",
    "            control_field_update = (control_field + self.step_size*mag_i_grad)\n",
    "\n",
    "            control_field_new = projection_simplex_sort(control_field_update.T,z=field_budget)\n",
    "\n",
    "            \n",
    "            tot_field = np.array(self.background_field+control_field_new)\n",
    "            mag_ii,mag_delta_history = self.Steffensen_method(mag_i,beta,tot_field,mag_delta_history,it)\n",
    "\n",
    "\n",
    "            if np.abs(np.mean(mag_ii)-np.mean(mag_i)) <= self.iim_tol_fac:\n",
    "                break\n",
    "            control_field_history.append(control_field_new)\n",
    "            mag_i=mag_ii\n",
    "        if it==self.iim_iter-1:\n",
    "            print('Failed to converge after {} iterations'.format(self.iim_iter))\n",
    "            \n",
    "        return control_field,it\n",
    "            \n",
    "        \n",
    "                \n",
    "budget=1.0\n",
    "h = np.zeros(len(G.nodes.keys()))\n",
    "\n",
    "system = mf_ising_system(G,h,iim_iter=1000,fixed_point_iter=int(5*1e4))\n",
    "\n",
    "\n",
    "beta_crit=crit_b(system.adj_matrix)\n",
    "beta = 0.9\n",
    "print(beta_crit)\n",
    "control,it=system.MF_IIM(budget,beta)\n"
   ]
  },
  {
   "cell_type": "code",
   "execution_count": 7,
   "id": "consecutive-toyota",
   "metadata": {},
   "outputs": [
    {
     "name": "stdout",
     "output_type": "stream",
     "text": [
      "0 0.19952623149688797\n",
      "100 0.3471210588810844\n",
      "200 0.6038956813585916\n",
      "300 1.0506132792378116\n",
      "400 1.8277796920614202\n",
      "FINISHED\n"
     ]
    }
   ],
   "source": [
    "exp_beta_list = np.logspace(-0.7, 0.5, endpoint=True,num=500)\n",
    "y = np.zeros(len(exp_beta_list))\n",
    "control_history=[]\n",
    "for i,beta in enumerate(exp_beta_list):\n",
    "    system = mf_ising_system(G,h,iim_iter=1000,fp_tol_fac=10-4)\n",
    "    control,_=system.MF_IIM(budget,beta)\n",
    "    control_history.append(control)\n",
    "    if i%100==0:\n",
    "        print(i,beta)\n",
    "\n",
    "print('FINISHED')    "
   ]
  },
  {
   "cell_type": "code",
   "execution_count": 9,
   "id": "acknowledged-baking",
   "metadata": {},
   "outputs": [
    {
     "data": {
      "image/png": "[encoded data removed]",
      "text/plain": [
       "<Figure size 648x360 with 1 Axes>"
      ]
     },
     "metadata": {
      "needs_background": "light"
     },
     "output_type": "display_data"
    }
   ],
   "source": [
    "\n",
    "\n",
    "import matplotlib\n",
    "\n",
    "\n",
    "avs_deg=np.zeros(len(control_history))\n",
    "for it,control in enumerate(control_history):\n",
    "    average_degree = np.sum([G.degree[i]*con for i,con in enumerate(control)])\n",
    "    avs_deg[it]=average_degree\n",
    "\n",
    "fig,ax = plt.subplots(figsize=(9,5))\n",
    "\n",
    "ax.plot(exp_beta_list,avs_deg,linewidth=3)\n",
    "ax.set_xscale(value='log')\n",
    "\n",
    "\n",
    "ax.set_xticks([0.2,0.3,0.5,1.0,2.0, 3.0])\n",
    "ax.get_xaxis().set_major_formatter(matplotlib.ticker.ScalarFormatter())\n",
    "ax.set_ylabel('Average degree')\n",
    "ax.set_xlabel(r'Interaction Strenght (beta)')\n",
    "plt.show()\n"
   ]
  },
  {
   "cell_type": "code",
   "execution_count": 10,
   "id": "martial-introduction",
   "metadata": {},
   "outputs": [],
   "source": [
    "import torch\n",
    "import torch.optim as optim\n",
    "from itertools import permutations\n",
    "from functools import reduce\n",
    "\n",
    "possible_configs = np.zeros([2**system.graph_size,system.graph_size]) # possible spin configurations\n",
    "\n",
    "init_mag = np.ones(system.graph_size)\n",
    "\n",
    "def unique_permutations(iterable, r=None):\n",
    "    previous = tuple()\n",
    "    for p in permutations(sorted(iterable), r):\n",
    "        if p > previous:\n",
    "            previous = p\n",
    "            yield p\n",
    "\n",
    "all_pos,all_neg = np.ones(system.graph_size),(-1)*np.ones(system.graph_size)\n",
    "for i,p in enumerate(unique_permutations(np.concatenate((all_pos,all_neg)),system.graph_size)):\n",
    "    possible_configs[i]=p\n",
    "    \n",
    "\n",
    "def magnetic_int(i,m,h,beta):\n",
    "    term = torch.exp(-beta*h[i]*m[i])\n",
    "    return term\n",
    "\n",
    "def magnetic_int_dev(i,m,h,beta):\n",
    "    'Derivative of external magnetic field influence on i_th spin with respect to h_i'\n",
    "    term = -beta*m[i]*magnetic_int(i,m,h,beta)\n",
    "    return term\n",
    "\n",
    "def magnetic_butI(system,i,m,h,beta):\n",
    "    'external magnetic field influence term for all spins but i'\n",
    "    iters=[j for j in range(system.graph_size) if j!=i]\n",
    "    terms=torch.stack([magnetic_int(it,m,h,beta) for it in iters])\n",
    "    term = reduce(lambda x, y: x*y,terms)\n",
    "    return term\n",
    "\n",
    "def magnetic_full(system,m,h,beta):\n",
    "    term=torch.stack([magnetic_int_dev(i,m,h,beta)*magnetic_butI(system,i,m,h,beta) for i in range(system.graph_size)])\n",
    "    return term \n",
    "\n",
    "def intermolar(system,m,beta):\n",
    "    'calculates intermolar interaction in the partition function for a single configuration'\n",
    "    adj_matrix=torch.from_numpy(system.adj_matrix)\n",
    "    exp_term=torch.sum(torch.Tensor([float(m[i]*adj_matrix[i,:]@m) for i in range(system.graph_size)]))/2.0\n",
    "    term = torch.exp(-beta*exp_term)\n",
    "    return term\n",
    "    \n",
    "    \n",
    "def partition_dev(system,h,beta):\n",
    "    'Derivative of the partition function with respect to external field. dZ/dH'\n",
    "    term=torch.stack([intermolar(system,m,beta)*magnetic_full(system,m,h,beta) for m in possible_configs])\n",
    "    return torch.sum(term,axis=0)\n",
    "\n",
    "\n",
    "\n",
    "def hamiltonian(system,m,h):\n",
    "    adj_matrix=torch.from_numpy(system.adj_matrix)\n",
    "    m = torch.from_numpy(m)\n",
    "    x=torch.sum(torch.Tensor([float(m[i]*adj_matrix[i,:]@m) for i in range(system.graph_size)]))/2.0 + 2*h@m\n",
    "    return x  \n",
    "\n",
    "\n",
    "def partition_function(system,h,beta,possible_configs=possible_configs):\n",
    "    term = torch.stack([torch.exp(-beta*hamiltonian(system,possible_configs[i],h)) for i in range(possible_configs.shape[0])])\n",
    "    return torch.sum(term)\n",
    "\n",
    "\n",
    "from torch.autograd import grad\n",
    "\n",
    "def nth_derivative(f, wrt, n):\n",
    "    for i in range(n):\n",
    "        grads = -grad(f, wrt, create_graph=True)[0]\n",
    "        f = grads.sum()\n",
    "    return grads\n",
    "\n",
    "\n",
    "def magnetisation(system,h,beta):\n",
    "    term = (1/beta)*partition_dev(system,h,beta)* 1.0/(partition_function(system,h,beta))\n",
    "    #term =(1/beta)*nth_derivative(partition_function(system,h,beta),h,1)* 1.0/(partition_function(system,h,beta))\n",
    "    return term\n",
    "\n",
    "\n",
    "def constrained_magnetisation(system,h,l,beta,budget):\n",
    "    term = (1/beta)*1/(partition_function(system,h,beta)) * partition_dev(system,h,beta)+l*(torch.sum(h)-budget)\n",
    "    return term\n",
    "\n",
    "def projection_simplex_sort_torch(v, z=1):\n",
    "    n_features = v.shape[0]\n",
    "    indices,u = torch.sort(v,descending=True)[::-1]\n",
    "    cssv = torch.cumsum(u,dim=0) - z\n",
    "    ind = torch.arange(n_features) + 1\n",
    "    cond = u - cssv / ind > 0\n",
    "    rho = ind[cond][-1]\n",
    "    theta = cssv[cond][-1] / float(rho)\n",
    "    w = v.clone()\n",
    "    w.subtract_(theta)\n",
    "    torch.nn.functional.relu(w, inplace=True)\n",
    "    return w \n",
    "\n"
   ]
  },
  {
   "cell_type": "code",
   "execution_count": 11,
   "id": "expanded-incident",
   "metadata": {},
   "outputs": [],
   "source": [
    "per_spin = (budget)/system.graph_size\n",
    "H = per_spin*torch.ones(system.graph_size,dtype=torch.float64)\n",
    "H.requires_grad=True\n"
   ]
  },
  {
   "cell_type": "code",
   "execution_count": 12,
   "id": "planned-afternoon",
   "metadata": {},
   "outputs": [],
   "source": [
    "#beta=0.9\n",
    "def theoretical_mag(beta,lr):\n",
    "    epochs =10000\n",
    "    per_spin = (budget)/system.graph_size\n",
    "    H = per_spin*torch.ones(system.graph_size,dtype=torch.float64)\n",
    "    H.requires_grad=True\n",
    "\n",
    "    h_history=np.zeros((epochs,system.graph_size))\n",
    "    g_history = np.zeros((epochs,system.graph_size))\n",
    "    for i in range(epochs):\n",
    "        output = -magnetisation(system,H,beta) # note the sign, so that it correspond to maximisation\n",
    "        output.backward(torch.ones_like(H))\n",
    "        H.data.add_(lr*H.grad.data)\n",
    "        H.data = projection_simplex_sort_torch(H, z=budget)\n",
    "        H.grad.detach_()\n",
    "        H.grad.zero_()\n",
    "        h_grad = H.grad.data.detach().numpy()\n",
    "        g_history[i]=h_grad\n",
    "        h_arr = H.detach().numpy()\n",
    "        h_history[i]=h_arr\n",
    "        assert np.round(np.sum(h_arr),3)==budget\n",
    "        if np.sum(np.abs(h_arr-h_history[i-1])) <1e-8:\n",
    "            break\n",
    "        \n",
    "        \n",
    "    return H.detach().numpy(),h_history,i\n",
    "    \n",
    "tx,history,i = theoretical_mag(0.9,0.1)\n",
    "\n",
    "\n",
    "# fig,ax=plt.subplots()\n",
    "# ax.plot(h_history[:,0],label='nodeC')\n",
    "# ax.plot(h_history[:,1],label='nodep1')\n",
    "# ax.plot(h_history[:,2],label='nodep2')\n",
    "# ax.plot(h_history[:,3],label='nodep3')\n",
    "# #ax.plot(h_history[:,4],label='nodep4')\n",
    "\n",
    "# ax.legend()\n"
   ]
  },
  {
   "cell_type": "code",
   "execution_count": null,
   "id": "suspected-phase",
   "metadata": {},
   "outputs": [],
   "source": []
  },
  {
   "cell_type": "code",
   "execution_count": 13,
   "id": "incorporate-begin",
   "metadata": {},
   "outputs": [
    {
     "name": "stdout",
     "output_type": "stream",
     "text": [
      "0 [1. 0. 0. 0. 0.] learning rate 1.0 iteration 7\n",
      "20 [1. 0. 0. 0. 0.] learning rate 0.5 iteration 4\n",
      "40 [1. 0. 0. 0. 0.] learning rate 0.25 iteration 4\n",
      "60 [1. 0. 0. 0. 0.] learning rate 0.125 iteration 10\n",
      "80 [0.89058405 0.02735399 0.02735399 0.02735399 0.02735399] learning rate 0.0625 iteration 59\n",
      "100 [0.8110539  0.04723652 0.04723652 0.04723652 0.04723652] learning rate 0.03125 iteration 70\n",
      "120 [0.   0.25 0.25 0.25 0.25] learning rate 0.015625 iteration 17\n",
      "140 [0.   0.25 0.25 0.25 0.25] learning rate 0.01 iteration 17\n",
      "160 [0.   0.25 0.25 0.25 0.25] learning rate 0.01 iteration 14\n",
      "180 [0.   0.25 0.25 0.25 0.25] learning rate 0.01 iteration 13\n",
      "200 [0.   0.25 0.25 0.25 0.25] learning rate 0.01 iteration 13\n",
      "220 [0.   0.25 0.25 0.25 0.25] learning rate 0.01 iteration 13\n",
      "240 [0.   0.25 0.25 0.25 0.25] learning rate 0.01 iteration 14\n",
      "260 [0.   0.25 0.25 0.25 0.25] learning rate 0.01 iteration 14\n",
      "280 [0.   0.25 0.25 0.25 0.25] learning rate 0.01 iteration 15\n",
      "Finished\n"
     ]
    }
   ],
   "source": [
    "\n",
    "lr = 1.0\n",
    "beta_list = np.linspace(0.2, 3.0, endpoint=True,num=300)\n",
    "theoretic_arr = np.zeros((len(beta_list),system.graph_size))\n",
    "for i,beta in enumerate(beta_list):\n",
    "    tx,_,it = theoretical_mag(beta,lr)\n",
    "    theoretic_arr[i]=tx\n",
    "    if i%20==0:\n",
    "        print(i,tx,'learning rate',lr,'iteration',it)\n",
    "        lr = max(lr*0.5,0.01)\n",
    "print('Finished')"
   ]
  },
  {
   "cell_type": "code",
   "execution_count": 20,
   "id": "partial-testament",
   "metadata": {},
   "outputs": [
    {
     "data": {
      "image/png": "[encoded data removed]",
      "text/plain": [
       "<Figure size 720x360 with 1 Axes>"
      ]
     },
     "metadata": {
      "needs_background": "light"
     },
     "output_type": "display_data"
    }
   ],
   "source": [
    "import matplotlib\n",
    "avs_degrees=np.zeros(len(theoretic_arr))\n",
    "for it,control in enumerate(theoretic_arr):\n",
    "    average_degree = np.sum([G.degree[i]*con for i,con in enumerate(control)])\n",
    "    avs_degrees[it]=average_degree\n",
    "\n",
    "    \n",
    "    \n",
    "matplotlib.rcParams.update({'font.size': 14,'figure.figsize':(10,5),'axes.labelsize': 'large',\n",
    "                           'axes.titlesize':18})\n",
    "\n",
    "\n",
    "    \n",
    "fig,ax = plt.subplots()\n",
    "\n",
    "ax.plot(beta_list,avs_degrees,label='True Optimal',linestyle='dashed',linewidth=3)\n",
    "ax.plot(exp_beta_list,avs_deg,label='MF-IIM solution',linestyle='dashed',linewidth=3)\n",
    "ax.vlines(beta_crit,ymin=1,ymax=4,linestyles='dashed',color='black',label=r'$\\beta_{crit}$')\n",
    "\n",
    "ax.legend()\n",
    "ax.set_xscale(value='log')\n",
    "ax.set_title('Optimal MF-IIM compared to the True Optimal solution')\n",
    "\n",
    "ax.set_xticks([0.2,0.3,0.5,1.0,2.0, 3.0])\n",
    "ax.get_xaxis().set_major_formatter(matplotlib.ticker.ScalarFormatter())\n",
    "ax.set_ylabel('Average degree')\n",
    "ax.set_xlabel(r'Interaction Strenght ($\\beta$)')\n",
    "plt.show()"
   ]
  },
  {
   "cell_type": "code",
   "execution_count": 443,
   "id": "pacific-frequency",
   "metadata": {},
   "outputs": [
    {
     "data": {
      "text/plain": [
       "array([0.78021313, 0.05494672, 0.05494672, 0.05494672, 0.05494672])"
      ]
     },
     "execution_count": 443,
     "metadata": {},
     "output_type": "execute_result"
    }
   ],
   "source": [
    "avs_degrees[111]\n",
    "\n",
    "theoretic_arr[111]"
   ]
  },
  {
   "cell_type": "code",
   "execution_count": 362,
   "id": "alert-refrigerator",
   "metadata": {},
   "outputs": [
    {
     "data": {
      "text/plain": [
       "tensor(-5.2706, dtype=torch.float64, grad_fn=<MulBackward0>)"
      ]
     },
     "execution_count": 362,
     "metadata": {},
     "output_type": "execute_result"
    }
   ],
   "source": [
    "\n",
    "def free_energy(system,h,beta,possible_configs=possible_configs):\n",
    "    F = -(1.0/beta)*torch.log(partition_function(system,h,beta))\n",
    "    return F\n",
    "\n",
    "\n",
    "free_energy(system,H,1.5,possible_configs=possible_configs)"
   ]
  },
  {
   "cell_type": "code",
   "execution_count": 95,
   "id": "whole-sierra",
   "metadata": {},
   "outputs": [
    {
     "name": "stdout",
     "output_type": "stream",
     "text": [
      "tensor([-27.9548,  31.7175,  31.7175], dtype=torch.float64,\n",
      "       grad_fn=<NegBackward>)\n",
      "tensor([ 27.9548, -31.7175, -31.7175], dtype=torch.float64,\n",
      "       grad_fn=<SumBackward1>)\n"
     ]
    }
   ],
   "source": [
    "per_spin = (budget)/system.graph_size\n",
    "H = -per_spin*torch.ones(system.graph_size,dtype=torch.float64)\n",
    "H.requires_grad=True\n",
    "\n",
    "\n",
    "Z = partition_function(system,H,1.5)\n",
    "dZdH = nth_derivative(partition_function(system,H,1.5),H, 1)\n",
    "print(dZdH)\n",
    "\n",
    "dZdH2 = partition_dev(system,H,1.5)\n",
    "print(dZdH2)"
   ]
  },
  {
   "cell_type": "code",
   "execution_count": 137,
   "id": "pacific-fleet",
   "metadata": {},
   "outputs": [
    {
     "ename": "NameError",
     "evalue": "name 'L' is not defined",
     "output_type": "error",
     "traceback": [
      "\u001b[1;31m---------------------------------------------------------------------------\u001b[0m",
      "\u001b[1;31mNameError\u001b[0m                                 Traceback (most recent call last)",
      "\u001b[1;32m<ipython-input-137-30f98436c32c>\u001b[0m in \u001b[0;36m<module>\u001b[1;34m\u001b[0m\n\u001b[0;32m      7\u001b[0m \u001b[1;32mfor\u001b[0m \u001b[0mi\u001b[0m \u001b[1;32min\u001b[0m \u001b[0mrange\u001b[0m\u001b[1;33m(\u001b[0m\u001b[0mepochs\u001b[0m\u001b[1;33m)\u001b[0m\u001b[1;33m:\u001b[0m\u001b[1;33m\u001b[0m\u001b[1;33m\u001b[0m\u001b[0m\n\u001b[0;32m      8\u001b[0m \u001b[1;33m\u001b[0m\u001b[0m\n\u001b[1;32m----> 9\u001b[1;33m     \u001b[0moutput\u001b[0m \u001b[1;33m=\u001b[0m \u001b[1;33m-\u001b[0m\u001b[0mconstrained_magnetisation\u001b[0m\u001b[1;33m(\u001b[0m\u001b[0msystem\u001b[0m\u001b[1;33m,\u001b[0m\u001b[0mH\u001b[0m\u001b[1;33m,\u001b[0m\u001b[0mL\u001b[0m\u001b[1;33m,\u001b[0m\u001b[1;36m0.1\u001b[0m\u001b[1;33m,\u001b[0m\u001b[0mbudget\u001b[0m\u001b[1;33m)\u001b[0m \u001b[1;31m# note the sign, so that it correspond to maximisation\u001b[0m\u001b[1;33m\u001b[0m\u001b[1;33m\u001b[0m\u001b[0m\n\u001b[0m\u001b[0;32m     10\u001b[0m     \u001b[0moutput\u001b[0m\u001b[1;33m.\u001b[0m\u001b[0mbackward\u001b[0m\u001b[1;33m(\u001b[0m\u001b[1;33m)\u001b[0m\u001b[1;33m\u001b[0m\u001b[1;33m\u001b[0m\u001b[0m\n\u001b[0;32m     11\u001b[0m \u001b[1;33m\u001b[0m\u001b[0m\n",
      "\u001b[1;31mNameError\u001b[0m: name 'L' is not defined"
     ]
    }
   ],
   "source": [
    "# LANGRANGIAN \n",
    "\n",
    "epochs = 100\n",
    "lr = 0.1\n",
    "lr2=1.0\n",
    "h_history=np.zeros((epochs,system.graph_size))\n",
    "for i in range(epochs):\n",
    "    \n",
    "    output = -constrained_magnetisation(system,H,L,0.1,budget) # note the sign, so that it correspond to maximisation\n",
    "    output.backward()\n",
    "    \n",
    "    H.data.add_(-lr*H.grad.data)\n",
    "    H.grad.detach_()\n",
    "    H.grad.zero_()\n",
    "    \n",
    "    L.grad.detach_()\n",
    "    L.grad.zero_()\n",
    "    \n",
    "    output = -constrained_magnetisation(system,H,L,0.1,budget) \n",
    "    output.backward()\n",
    "    \n",
    "    L.data.add_(lr2*L.grad.data)\n",
    "    H.grad.detach_()\n",
    "    H.grad.zero_()\n",
    "\n",
    "    L.grad.detach_()\n",
    "    L.grad.zero_()\n",
    "    \n",
    "\n",
    "    h_arr = H.detach().numpy()\n",
    "    h_history[i]=h_arr\n",
    "    #assert np.round(np.sum(h_arr),3)==budget"
   ]
  },
  {
   "cell_type": "code",
   "execution_count": null,
   "id": "european-township",
   "metadata": {},
   "outputs": [],
   "source": []
  },
  {
   "cell_type": "code",
   "execution_count": 393,
   "id": "bronze-perry",
   "metadata": {},
   "outputs": [
    {
     "data": {
      "text/plain": [
       "<matplotlib.legend.Legend at 0x26923785940>"
      ]
     },
     "execution_count": 393,
     "metadata": {},
     "output_type": "execute_result"
    },
    {
     "data": {
      "image/png": "[encoded data removed]",
      "text/plain": [
       "<Figure size 432x288 with 1 Axes>"
      ]
     },
     "metadata": {
      "needs_background": "light"
     },
     "output_type": "display_data"
    }
   ],
   "source": [
    "fig,ax=plt.subplots()\n",
    "ax.plot(h_history[:,0],label='nodeC')\n",
    "ax.plot(h_history[:,1],label='nodep1')\n",
    "ax.plot(h_history[:,2],label='nodep2')\n",
    "ax.plot(h_history[:,3],label='nodep3')\n",
    "ax.legend()"
   ]
  },
  {
   "cell_type": "code",
   "execution_count": null,
   "id": "cross-personal",
   "metadata": {},
   "outputs": [],
   "source": []
  },
  {
   "cell_type": "code",
   "execution_count": 401,
   "id": "composite-mainstream",
   "metadata": {},
   "outputs": [
    {
     "name": "stdout",
     "output_type": "stream",
     "text": [
      "[[-1.]]\n"
     ]
    }
   ],
   "source": [
    "\n",
    "\n",
    "spin_field = np.dot(system.adj_matrix[i],m)\n",
    "\n",
    "print(spin_field)"
   ]
  },
  {
   "cell_type": "code",
   "execution_count": null,
   "id": "dutch-clinic",
   "metadata": {},
   "outputs": [],
   "source": []
  },
  {
   "cell_type": "code",
   "execution_count": null,
   "id": "civilian-armenia",
   "metadata": {},
   "outputs": [],
   "source": []
  }
 ],
 "metadata": {
  "kernelspec": {
   "display_name": "Python 3",
   "language": "python",
   "name": "python3"
  },
  "language_info": {
   "codemirror_mode": {
    "name": "ipython",
    "version": 3
   },
   "file_extension": ".py",
   "mimetype": "text/x-python",
   "name": "python",
   "nbconvert_exporter": "python",
   "pygments_lexer": "ipython3",
   "version": "3.9.0"
  }
 },
 "nbformat": 4,
 "nbformat_minor": 5
}
