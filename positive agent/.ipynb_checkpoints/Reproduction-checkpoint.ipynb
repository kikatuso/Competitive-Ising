{
 "cells": [
  {
   "cell_type": "code",
   "execution_count": 1,
   "id": "endless-textbook",
   "metadata": {},
   "outputs": [],
   "source": [
    "import networkx as nx \n",
    "import numpy as np \n",
    "import pandas as pd\n",
    "import matplotlib.pyplot as plt\n",
    "import math\n",
    "from scipy import optimize\n",
    "import scipy\n",
    "import sys\n",
    "\n",
    "\n",
    "from src import SingleAgent as sa\n",
    "from src import helperfunctions as hf"
   ]
  },
  {
   "cell_type": "code",
   "execution_count": 2,
   "id": "quiet-curtis",
   "metadata": {},
   "outputs": [
    {
     "data": {
      "image/png": "[encoded data removed]",
      "text/plain": [
       "<Figure size 432x288 with 1 Axes>"
      ]
     },
     "metadata": {},
     "output_type": "display_data"
    }
   ],
   "source": [
    "G = nx.star_graph(4)\n",
    "h = np.zeros(len(G.nodes.keys()))\n",
    "\n",
    "\n",
    "nx.draw(G)"
   ]
  },
  {
   "cell_type": "code",
   "execution_count": 3,
   "id": "postal-culture",
   "metadata": {},
   "outputs": [
    {
     "name": "stdout",
     "output_type": "stream",
     "text": [
      "0.5\n"
     ]
    }
   ],
   "source": [
    "        \n",
    "                \n",
    "budget=1.0\n",
    "h = np.zeros(len(G.nodes.keys()))\n",
    "\n",
    "system = sa.mf_ising_system(G,h,iim_iter=1000,fixed_point_iter=int(5*1e4))\n",
    "beta_crit=hf.crit_b(system.adj_matrix)\n"
   ]
  },
  {
   "cell_type": "code",
   "execution_count": 4,
   "id": "consecutive-toyota",
   "metadata": {},
   "outputs": [
    {
     "name": "stdout",
     "output_type": "stream",
     "text": [
      "0 0.19952623149688797\n",
      "100 0.7998620196059847\n",
      "0 0.19952623149688797\n",
      "100 0.7998620196059847\n",
      "0 0.19952623149688797\n",
      "100 0.7998620196059847\n",
      "0 0.19952623149688797\n",
      "100 0.7998620196059847\n",
      "0 0.19952623149688797\n",
      "100 0.7998620196059847\n",
      "0 0.19952623149688797\n",
      "100 0.7998620196059847\n",
      "0 0.19952623149688797\n",
      "100 0.7998620196059847\n",
      "0 0.19952623149688797\n",
      "100 0.7998620196059847\n",
      "0 0.19952623149688797\n",
      "100 0.7998620196059847\n",
      "0 0.19952623149688797\n",
      "100 0.7998620196059847\n",
      "FINISHED\n"
     ]
    }
   ],
   "source": [
    "exp_beta_list = np.logspace(-0.7, 0.5, endpoint=True,num=200)\n",
    "iters=10\n",
    "runs =np.zeros((iters,len(exp_beta_list),system.graph_size))\n",
    "\n",
    "for run in range(runs.shape[0]):\n",
    "    control_history=[]\n",
    "    for i,beta in enumerate(exp_beta_list):\n",
    "        system = sa.mf_ising_system(G,h,iim_iter=1000,fp_tol_fac=10-4)\n",
    "        control,_=system.MF_IIM(budget,beta)\n",
    "        control_history.append(control)\n",
    "        if i%100==0:\n",
    "            print(i,beta)\n",
    "        runs[run,i,:]=control\n",
    "\n",
    "        \n",
    "mean_run = np.mean(runs,axis=0)\n",
    "var_run = np.var(runs,axis=0)\n",
    "print('FINISHED')    "
   ]
  },
  {
   "cell_type": "code",
   "execution_count": 5,
   "id": "acknowledged-baking",
   "metadata": {},
   "outputs": [
    {
     "data": {
      "image/png": "[encoded data removed]",
      "text/plain": [
       "<Figure size 648x360 with 1 Axes>"
      ]
     },
     "metadata": {
      "needs_background": "light"
     },
     "output_type": "display_data"
    }
   ],
   "source": [
    "\n",
    "\n",
    "import matplotlib\n",
    "\n",
    "\n",
    "avs_deg=np.zeros(len(mean_run))\n",
    "var_deg = np.zeros(len(mean_run))\n",
    "for it,control in enumerate(mean_run):\n",
    "    average_degree = np.sum([G.degree[i]*con for i,con in enumerate(control)])\n",
    "    variance_degree = np.sum([G.degree[i]**2*var for i,var in enumerate(var_run[it])])\n",
    "    avs_deg[it]=average_degree\n",
    "    var_deg[it]=variance_degree\n",
    "\n",
    "fig,ax = plt.subplots(figsize=(9,5))\n",
    "\n",
    "ax.scatter(exp_beta_list,avs_deg,s=8)\n",
    "ax.set_xscale(value='log')\n",
    "ax.fill_between(exp_beta_list, avs_deg-np.sqrt(var_deg), avs_deg+np.sqrt(var_deg),\n",
    "                    **{'color':'green','alpha':0.5})\n",
    "\n",
    "\n",
    "ax.set_xticks([0.2,0.3,0.5,1.0,2.0, 3.0])\n",
    "ax.get_xaxis().set_major_formatter(matplotlib.ticker.ScalarFormatter())\n",
    "ax.set_ylabel('Average degree')\n",
    "ax.set_xlabel(r'Interaction Strenght (beta)')\n",
    "plt.show()\n"
   ]
  },
  {
   "cell_type": "code",
   "execution_count": 9,
   "id": "expanded-incident",
   "metadata": {},
   "outputs": [],
   "source": [
    "import torch\n",
    "per_spin = (budget)/system.graph_size\n",
    "H = per_spin*torch.ones(system.graph_size,dtype=torch.float64)\n",
    "H.requires_grad=True\n",
    "\n",
    "\n",
    "realsystem = sa.TrueSolution(G)"
   ]
  },
  {
   "cell_type": "code",
   "execution_count": 11,
   "id": "planned-afternoon",
   "metadata": {},
   "outputs": [],
   "source": [
    "#beta=0.9\n",
    "# GRADIENT DESCENT WITH ADAM\n",
    "def theoretical_mag(beta,lr,eps=1e-8):\n",
    "    epochs =5000\n",
    "    per_spin = (budget)/system.graph_size\n",
    "    H = per_spin*torch.ones(system.graph_size,dtype=torch.float64)\n",
    "    H.requires_grad=True\n",
    "\n",
    "    \n",
    "    h_history=np.zeros((epochs,system.graph_size))\n",
    "    g_history = np.zeros((epochs,system.graph_size))\n",
    "    \n",
    "    v = torch.zeros(epochs)\n",
    "    \n",
    "    beta1 = 0.9\n",
    "    beta2 = 0.999\n",
    "    m = torch.zeros(system.graph_size)\n",
    "    v = torch.zeros(system.graph_size)\n",
    "\n",
    "    for i in range(epochs):\n",
    "        output = -realsystem.magnetisation(H,beta) # note the sign, so that it correspond to maximisation\n",
    "        output.backward(torch.ones_like(H))\n",
    "        \n",
    "        # ADAM OPTIMISER\n",
    "        m = beta1 * m + (1.0 - beta1) * H.grad.data\n",
    "        v= beta2 * v + (1.0 - beta2) * H.grad.data**2\n",
    "        mhat = m / (1.0 - beta1**(i+1))\n",
    "        vhat = v/ (1.0 - beta2**(i+1))\n",
    "        \n",
    "                \n",
    "        H.data.add_(lr * mhat / (torch.sqrt(vhat) + eps))\n",
    "        H.data = hf.projection_simplex_sort_torch(H, z=budget)\n",
    "        H.grad.detach_()\n",
    "        H.grad.zero_()\n",
    "        h_grad = H.grad.data.detach().numpy()\n",
    "        g_history[i]=h_grad\n",
    "        h_arr = H.detach().numpy()\n",
    "        h_history[i]=h_arr\n",
    "        assert np.round(np.sum(h_arr),3)==budget\n",
    "        if np.sum(np.abs(h_arr-h_history[i-1])) <1e-8:\n",
    "            break\n",
    "        \n",
    "        \n",
    "    return H.detach().numpy(),h_history,i\n",
    "    \n",
    "tx,history,i = theoretical_mag(0.9,0.5)\n"
   ]
  },
  {
   "cell_type": "code",
   "execution_count": 12,
   "id": "incorporate-begin",
   "metadata": {},
   "outputs": [
    {
     "name": "stdout",
     "output_type": "stream",
     "text": [
      "0 [1. 0. 0. 0. 0.] learning rate 0.1 iteration 516\n",
      "10 [0.   0.25 0.25 0.25 0.25] learning rate 0.1 iteration 2\n",
      "0 [1. 0. 0. 0. 0.] learning rate 0.1 iteration 516\n",
      "10 [0.   0.25 0.25 0.25 0.25] learning rate 0.1 iteration 2\n",
      "0 [1. 0. 0. 0. 0.] learning rate 0.1 iteration 516\n",
      "10 [0.   0.25 0.25 0.25 0.25] learning rate 0.1 iteration 2\n",
      "0 [1. 0. 0. 0. 0.] learning rate 0.1 iteration 516\n",
      "10 [0.   0.25 0.25 0.25 0.25] learning rate 0.1 iteration 2\n",
      "0 [1. 0. 0. 0. 0.] learning rate 0.1 iteration 516\n",
      "10 [0.   0.25 0.25 0.25 0.25] learning rate 0.1 iteration 2\n",
      "0 [1. 0. 0. 0. 0.] learning rate 0.1 iteration 516\n",
      "10 [0.   0.25 0.25 0.25 0.25] learning rate 0.1 iteration 2\n",
      "0 [1. 0. 0. 0. 0.] learning rate 0.1 iteration 516\n",
      "10 [0.   0.25 0.25 0.25 0.25] learning rate 0.1 iteration 2\n",
      "0 [1. 0. 0. 0. 0.] learning rate 0.1 iteration 516\n",
      "10 [0.   0.25 0.25 0.25 0.25] learning rate 0.1 iteration 2\n",
      "0 [1. 0. 0. 0. 0.] learning rate 0.1 iteration 516\n",
      "10 [0.   0.25 0.25 0.25 0.25] learning rate 0.1 iteration 2\n",
      "0 [1. 0. 0. 0. 0.] learning rate 0.1 iteration 516\n",
      "10 [0.   0.25 0.25 0.25 0.25] learning rate 0.1 iteration 2\n",
      "FINISHED\n"
     ]
    }
   ],
   "source": [
    "\n",
    "lr = 0.1\n",
    "\n",
    "beta_list = np.linspace(0.2, 3.0, endpoint=True,num=20)\n",
    "\n",
    "\n",
    "iters=10\n",
    "th_runs =np.zeros((iters,len(beta_list),system.graph_size))\n",
    "\n",
    "for run in range(th_runs.shape[0]):\n",
    "    for i,beta in enumerate(beta_list):\n",
    "        tx,_,it = theoretical_mag(beta,lr)\n",
    "        if i%10==0:\n",
    "            print(i,tx,'learning rate',lr,'iteration',it)\n",
    "            #lr = max(lr*0.5,0.01)\n",
    "        th_runs[run,i,:]=tx\n",
    "        \n",
    "\n",
    "        \n",
    "mean_th_run = np.mean(th_runs,axis=0)\n",
    "var_th_run = np.var(th_runs,axis=0)\n",
    "print('FINISHED')    "
   ]
  },
  {
   "cell_type": "code",
   "execution_count": null,
   "id": "accompanied-nomination",
   "metadata": {},
   "outputs": [],
   "source": [
    "th_runs"
   ]
  },
  {
   "cell_type": "code",
   "execution_count": 13,
   "id": "partial-testament",
   "metadata": {},
   "outputs": [
    {
     "data": {
      "image/png": "[encoded data removed]",
      "text/plain": [
       "<Figure size 720x360 with 1 Axes>"
      ]
     },
     "metadata": {
      "needs_background": "light"
     },
     "output_type": "display_data"
    }
   ],
   "source": [
    "import matplotlib\n",
    "\n",
    "\n",
    "avs_deg_theory=np.zeros(len(mean_th_run))\n",
    "var_deg_theory = np.zeros(len(mean_th_run))\n",
    "for it,control in enumerate(mean_th_run):\n",
    "    average_degree = np.sum([G.degree[i]*con for i,con in enumerate(control)])\n",
    "    variance_degree = np.sum([G.degree[i]**2*var for i,var in enumerate(var_th_run[it])])\n",
    "    avs_deg_theory[it]=average_degree\n",
    "    var_deg_theory[it]=variance_degree\n",
    "\n",
    "    \n",
    "matplotlib.rcParams.update({'font.size': 14,'figure.figsize':(10,5),'axes.labelsize': 'large',\n",
    "                           'axes.titlesize':18})\n",
    "\n",
    "\n",
    "    \n",
    "fig,ax = plt.subplots()\n",
    "\n",
    "ax.plot(beta_list,avs_deg_theory,label='True Optimal',linestyle='dashed',linewidth=3)\n",
    "ax.fill_between(beta_list, avs_deg_theory-np.sqrt(var_deg_theory), avs_deg_theory+np.sqrt(var_deg_theory),\n",
    "                    **{'color':'green','alpha':0.5})\n",
    "\n",
    "\n",
    "\n",
    "\n",
    "ax.plot(exp_beta_list,avs_deg,label='MF-IIM solution',linestyle='dashed',linewidth=3)\n",
    "ax.fill_between(exp_beta_list, avs_deg-np.sqrt(var_deg), avs_deg+np.sqrt(var_deg),\n",
    "                    **{'color':'green','alpha':0.5})\n",
    "\n",
    "\n",
    "ax.vlines(beta_crit,ymin=1,ymax=4,linestyles='dashed',color='black',label=r'$\\beta_{crit}$')\n",
    "\n",
    "ax.legend()\n",
    "ax.set_xscale(value='log')\n",
    "ax.set_title('Optimal MF-IIM compared to the True Optimal solution')\n",
    "\n",
    "ax.set_xticks([0.2,0.3,0.5,1.0,2.0, 3.0])\n",
    "ax.get_xaxis().set_major_formatter(matplotlib.ticker.ScalarFormatter())\n",
    "ax.set_ylabel('Average degree')\n",
    "ax.set_xlabel(r'Interaction Strenght ($\\beta$)')\n",
    "plt.show()"
   ]
  },
  {
   "cell_type": "code",
   "execution_count": null,
   "id": "french-inspection",
   "metadata": {},
   "outputs": [],
   "source": []
  }
 ],
 "metadata": {
  "kernelspec": {
   "display_name": "Python 3",
   "language": "python",
   "name": "python3"
  },
  "language_info": {
   "codemirror_mode": {
    "name": "ipython",
    "version": 3
   },
   "file_extension": ".py",
   "mimetype": "text/x-python",
   "name": "python",
   "nbconvert_exporter": "python",
   "pygments_lexer": "ipython3",
   "version": "3.9.0"
  }
 },
 "nbformat": 4,
 "nbformat_minor": 5
}
